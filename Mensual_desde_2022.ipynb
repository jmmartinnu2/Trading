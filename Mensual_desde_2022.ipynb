{
  "nbformat": 4,
  "nbformat_minor": 0,
  "metadata": {
    "colab": {
      "name": "Mensual-desde-2022.ipynb",
      "provenance": [],
      "authorship_tag": "ABX9TyMw0VwCPFr0dgawDKKdsmzE",
      "include_colab_link": true
    },
    "kernelspec": {
      "name": "python3",
      "display_name": "Python 3"
    },
    "language_info": {
      "name": "python"
    }
  },
  "cells": [
    {
      "cell_type": "markdown",
      "metadata": {
        "id": "view-in-github",
        "colab_type": "text"
      },
      "source": [
        "<a href=\"https://colab.research.google.com/github/jmmartinnu2/Trading/blob/main/Mensual_desde_2022.ipynb\" target=\"_parent\"><img src=\"https://colab.research.google.com/assets/colab-badge.svg\" alt=\"Open In Colab\"/></a>"
      ]
    },
    {
      "cell_type": "markdown",
      "source": [
        "#VAMOS A RECOPILAR DATOS DEL FUTURO ES, MENSUALMENTE"
      ],
      "metadata": {
        "id": "WAXLyEpgYrJR"
      }
    },
    {
      "cell_type": "code",
      "execution_count": 4,
      "metadata": {
        "id": "P7ELfWWaULiO"
      },
      "outputs": [],
      "source": [
        "import pandas as pd\n",
        "import numpy as np"
      ]
    },
    {
      "cell_type": "markdown",
      "source": [
        ""
      ],
      "metadata": {
        "id": "c_3Qt3PMYwlp"
      }
    },
    {
      "cell_type": "code",
      "source": [
        "df = pd.DataFrame()\n",
        "\n",
        "# creamos las columnas\n",
        "df['Mes'] = None\n",
        "df['VAH'] = None\n",
        "df['Vpoc'] = None\n",
        "df['VAL'] = None\n",
        "df['Vol'] = None\n",
        "df['Cierre'] = None\n",
        "df['Vwap'] = None\n",
        "df['Open'] = None\n",
        "df['High'] = None\n",
        "df['Low'] = None\n",
        "df['Vol_VAH'] = None\n",
        "df['Vol_VPOC'] = None\n",
        "df['Vol_VAL'] = None\n",
        "df['Poc_Naked'] = False\n",
        "df['Rango_AreaValor'] = None\n",
        "\n",
        "\n",
        "# añadimos filas por su nombre de fila\n",
        "df.loc[0] = ['Enero',4733.75,4690,4368,40464300,4504.25,4529.95,4771,4803.50,4208,11200,187800,52100,True,365.75]\n",
        "df.loc[1] = ['Febrero',4576.75,4498,4359,34995400,4368,4407.1,4493.25,4581.25,4097,40700,262100,96300,False,217.75]\n",
        "df.loc[2] = ['Marzo',4457.75,4299,4146,31616100,4530.75,4373.95,4367.50,4633.50,4132,77200,130400,9800,False,311.75]\n",
        "df.loc[3] = ['Abril',4589,4463.25,4290.25,31177700,4127.50,4378.17,4541,4591.25,4121.25,4800,206500,47600,True,298.75]\n",
        "df.loc[4] = ['Mayo',4112.75,4017,3877,40873300,4135.25,4029.75,4126.50,4305.50,3810,10500,228300,41100,False,235.75]\n",
        "df.loc[5] = ['Junio',3919.75,3774,3643,34544800,3781,3884.03,4143.75,4191.50,3639,80200,264100,600,False,276.75]\n",
        "df.loc[6] = ['Julio',3987.50,3856.75,3800.75,32906500,4133.50,3902.45,3782,4144,3723.75,69700,270800,54600,True,186.75]\n",
        "#df.loc[7] = ['Agosto',None,None,None,None,None, None, 4137.50, None, None,None,None,None,None,None]\n",
        "#df.loc[8] = ['Septiembre',None,None,None,None,None, None, None, None, None,None,None,None,None,None]\n",
        "#df.loc[9] = ['Octubre',None,None,None,None,None, None, None, None, None,None,None,None,None,None]\n",
        "\n",
        "#Imprimo mi tabla con resultados\n",
        "df"
      ],
      "metadata": {
        "colab": {
          "base_uri": "https://localhost:8080/",
          "height": 269
        },
        "id": "BB0wep3nYpY6",
        "outputId": "2132b4e0-292a-4529-8b25-3d957963d56e"
      },
      "execution_count": 83,
      "outputs": [
        {
          "output_type": "execute_result",
          "data": {
            "text/plain": [
              "       Mes      VAH     Vpoc      VAL       Vol   Cierre     Vwap     Open  \\\n",
              "0    Enero  4733.75     4690     4368  40464300  4504.25  4529.95     4771   \n",
              "1  Febrero  4576.75     4498     4359  34995400  4368.00  4407.10  4493.25   \n",
              "2    Marzo  4457.75     4299     4146  31616100  4530.75  4373.95   4367.5   \n",
              "3    Abril  4589.00  4463.25  4290.25  31177700  4127.50  4378.17     4541   \n",
              "4     Mayo  4112.75     4017     3877  40873300  4135.25  4029.75   4126.5   \n",
              "5    Junio  3919.75     3774     3643  34544800  3781.00  3884.03  4143.75   \n",
              "6    Julio  3987.50  3856.75  3800.75  32906500  4133.50  3902.45     3782   \n",
              "\n",
              "      High      Low Vol_VAH Vol_VPOC Vol_VAL  Poc_Naked  Rango_AreaValor  \n",
              "0  4803.50     4208   11200   187800   52100       True           365.75  \n",
              "1  4581.25     4097   40700   262100   96300      False           217.75  \n",
              "2  4633.50     4132   77200   130400    9800      False           311.75  \n",
              "3  4591.25  4121.25    4800   206500   47600       True           298.75  \n",
              "4  4305.50     3810   10500   228300   41100      False           235.75  \n",
              "5  4191.50     3639   80200   264100     600      False           276.75  \n",
              "6  4144.00  3723.75   69700   270800   54600       True           186.75  "
            ],
            "text/html": [
              "\n",
              "  <div id=\"df-7fefb4ce-3ee6-47d0-bfc8-8d49205aee68\">\n",
              "    <div class=\"colab-df-container\">\n",
              "      <div>\n",
              "<style scoped>\n",
              "    .dataframe tbody tr th:only-of-type {\n",
              "        vertical-align: middle;\n",
              "    }\n",
              "\n",
              "    .dataframe tbody tr th {\n",
              "        vertical-align: top;\n",
              "    }\n",
              "\n",
              "    .dataframe thead th {\n",
              "        text-align: right;\n",
              "    }\n",
              "</style>\n",
              "<table border=\"1\" class=\"dataframe\">\n",
              "  <thead>\n",
              "    <tr style=\"text-align: right;\">\n",
              "      <th></th>\n",
              "      <th>Mes</th>\n",
              "      <th>VAH</th>\n",
              "      <th>Vpoc</th>\n",
              "      <th>VAL</th>\n",
              "      <th>Vol</th>\n",
              "      <th>Cierre</th>\n",
              "      <th>Vwap</th>\n",
              "      <th>Open</th>\n",
              "      <th>High</th>\n",
              "      <th>Low</th>\n",
              "      <th>Vol_VAH</th>\n",
              "      <th>Vol_VPOC</th>\n",
              "      <th>Vol_VAL</th>\n",
              "      <th>Poc_Naked</th>\n",
              "      <th>Rango_AreaValor</th>\n",
              "    </tr>\n",
              "  </thead>\n",
              "  <tbody>\n",
              "    <tr>\n",
              "      <th>0</th>\n",
              "      <td>Enero</td>\n",
              "      <td>4733.75</td>\n",
              "      <td>4690</td>\n",
              "      <td>4368</td>\n",
              "      <td>40464300</td>\n",
              "      <td>4504.25</td>\n",
              "      <td>4529.95</td>\n",
              "      <td>4771</td>\n",
              "      <td>4803.50</td>\n",
              "      <td>4208</td>\n",
              "      <td>11200</td>\n",
              "      <td>187800</td>\n",
              "      <td>52100</td>\n",
              "      <td>True</td>\n",
              "      <td>365.75</td>\n",
              "    </tr>\n",
              "    <tr>\n",
              "      <th>1</th>\n",
              "      <td>Febrero</td>\n",
              "      <td>4576.75</td>\n",
              "      <td>4498</td>\n",
              "      <td>4359</td>\n",
              "      <td>34995400</td>\n",
              "      <td>4368.00</td>\n",
              "      <td>4407.10</td>\n",
              "      <td>4493.25</td>\n",
              "      <td>4581.25</td>\n",
              "      <td>4097</td>\n",
              "      <td>40700</td>\n",
              "      <td>262100</td>\n",
              "      <td>96300</td>\n",
              "      <td>False</td>\n",
              "      <td>217.75</td>\n",
              "    </tr>\n",
              "    <tr>\n",
              "      <th>2</th>\n",
              "      <td>Marzo</td>\n",
              "      <td>4457.75</td>\n",
              "      <td>4299</td>\n",
              "      <td>4146</td>\n",
              "      <td>31616100</td>\n",
              "      <td>4530.75</td>\n",
              "      <td>4373.95</td>\n",
              "      <td>4367.5</td>\n",
              "      <td>4633.50</td>\n",
              "      <td>4132</td>\n",
              "      <td>77200</td>\n",
              "      <td>130400</td>\n",
              "      <td>9800</td>\n",
              "      <td>False</td>\n",
              "      <td>311.75</td>\n",
              "    </tr>\n",
              "    <tr>\n",
              "      <th>3</th>\n",
              "      <td>Abril</td>\n",
              "      <td>4589.00</td>\n",
              "      <td>4463.25</td>\n",
              "      <td>4290.25</td>\n",
              "      <td>31177700</td>\n",
              "      <td>4127.50</td>\n",
              "      <td>4378.17</td>\n",
              "      <td>4541</td>\n",
              "      <td>4591.25</td>\n",
              "      <td>4121.25</td>\n",
              "      <td>4800</td>\n",
              "      <td>206500</td>\n",
              "      <td>47600</td>\n",
              "      <td>True</td>\n",
              "      <td>298.75</td>\n",
              "    </tr>\n",
              "    <tr>\n",
              "      <th>4</th>\n",
              "      <td>Mayo</td>\n",
              "      <td>4112.75</td>\n",
              "      <td>4017</td>\n",
              "      <td>3877</td>\n",
              "      <td>40873300</td>\n",
              "      <td>4135.25</td>\n",
              "      <td>4029.75</td>\n",
              "      <td>4126.5</td>\n",
              "      <td>4305.50</td>\n",
              "      <td>3810</td>\n",
              "      <td>10500</td>\n",
              "      <td>228300</td>\n",
              "      <td>41100</td>\n",
              "      <td>False</td>\n",
              "      <td>235.75</td>\n",
              "    </tr>\n",
              "    <tr>\n",
              "      <th>5</th>\n",
              "      <td>Junio</td>\n",
              "      <td>3919.75</td>\n",
              "      <td>3774</td>\n",
              "      <td>3643</td>\n",
              "      <td>34544800</td>\n",
              "      <td>3781.00</td>\n",
              "      <td>3884.03</td>\n",
              "      <td>4143.75</td>\n",
              "      <td>4191.50</td>\n",
              "      <td>3639</td>\n",
              "      <td>80200</td>\n",
              "      <td>264100</td>\n",
              "      <td>600</td>\n",
              "      <td>False</td>\n",
              "      <td>276.75</td>\n",
              "    </tr>\n",
              "    <tr>\n",
              "      <th>6</th>\n",
              "      <td>Julio</td>\n",
              "      <td>3987.50</td>\n",
              "      <td>3856.75</td>\n",
              "      <td>3800.75</td>\n",
              "      <td>32906500</td>\n",
              "      <td>4133.50</td>\n",
              "      <td>3902.45</td>\n",
              "      <td>3782</td>\n",
              "      <td>4144.00</td>\n",
              "      <td>3723.75</td>\n",
              "      <td>69700</td>\n",
              "      <td>270800</td>\n",
              "      <td>54600</td>\n",
              "      <td>True</td>\n",
              "      <td>186.75</td>\n",
              "    </tr>\n",
              "  </tbody>\n",
              "</table>\n",
              "</div>\n",
              "      <button class=\"colab-df-convert\" onclick=\"convertToInteractive('df-7fefb4ce-3ee6-47d0-bfc8-8d49205aee68')\"\n",
              "              title=\"Convert this dataframe to an interactive table.\"\n",
              "              style=\"display:none;\">\n",
              "        \n",
              "  <svg xmlns=\"http://www.w3.org/2000/svg\" height=\"24px\"viewBox=\"0 0 24 24\"\n",
              "       width=\"24px\">\n",
              "    <path d=\"M0 0h24v24H0V0z\" fill=\"none\"/>\n",
              "    <path d=\"M18.56 5.44l.94 2.06.94-2.06 2.06-.94-2.06-.94-.94-2.06-.94 2.06-2.06.94zm-11 1L8.5 8.5l.94-2.06 2.06-.94-2.06-.94L8.5 2.5l-.94 2.06-2.06.94zm10 10l.94 2.06.94-2.06 2.06-.94-2.06-.94-.94-2.06-.94 2.06-2.06.94z\"/><path d=\"M17.41 7.96l-1.37-1.37c-.4-.4-.92-.59-1.43-.59-.52 0-1.04.2-1.43.59L10.3 9.45l-7.72 7.72c-.78.78-.78 2.05 0 2.83L4 21.41c.39.39.9.59 1.41.59.51 0 1.02-.2 1.41-.59l7.78-7.78 2.81-2.81c.8-.78.8-2.07 0-2.86zM5.41 20L4 18.59l7.72-7.72 1.47 1.35L5.41 20z\"/>\n",
              "  </svg>\n",
              "      </button>\n",
              "      \n",
              "  <style>\n",
              "    .colab-df-container {\n",
              "      display:flex;\n",
              "      flex-wrap:wrap;\n",
              "      gap: 12px;\n",
              "    }\n",
              "\n",
              "    .colab-df-convert {\n",
              "      background-color: #E8F0FE;\n",
              "      border: none;\n",
              "      border-radius: 50%;\n",
              "      cursor: pointer;\n",
              "      display: none;\n",
              "      fill: #1967D2;\n",
              "      height: 32px;\n",
              "      padding: 0 0 0 0;\n",
              "      width: 32px;\n",
              "    }\n",
              "\n",
              "    .colab-df-convert:hover {\n",
              "      background-color: #E2EBFA;\n",
              "      box-shadow: 0px 1px 2px rgba(60, 64, 67, 0.3), 0px 1px 3px 1px rgba(60, 64, 67, 0.15);\n",
              "      fill: #174EA6;\n",
              "    }\n",
              "\n",
              "    [theme=dark] .colab-df-convert {\n",
              "      background-color: #3B4455;\n",
              "      fill: #D2E3FC;\n",
              "    }\n",
              "\n",
              "    [theme=dark] .colab-df-convert:hover {\n",
              "      background-color: #434B5C;\n",
              "      box-shadow: 0px 1px 3px 1px rgba(0, 0, 0, 0.15);\n",
              "      filter: drop-shadow(0px 1px 2px rgba(0, 0, 0, 0.3));\n",
              "      fill: #FFFFFF;\n",
              "    }\n",
              "  </style>\n",
              "\n",
              "      <script>\n",
              "        const buttonEl =\n",
              "          document.querySelector('#df-7fefb4ce-3ee6-47d0-bfc8-8d49205aee68 button.colab-df-convert');\n",
              "        buttonEl.style.display =\n",
              "          google.colab.kernel.accessAllowed ? 'block' : 'none';\n",
              "\n",
              "        async function convertToInteractive(key) {\n",
              "          const element = document.querySelector('#df-7fefb4ce-3ee6-47d0-bfc8-8d49205aee68');\n",
              "          const dataTable =\n",
              "            await google.colab.kernel.invokeFunction('convertToInteractive',\n",
              "                                                     [key], {});\n",
              "          if (!dataTable) return;\n",
              "\n",
              "          const docLinkHtml = 'Like what you see? Visit the ' +\n",
              "            '<a target=\"_blank\" href=https://colab.research.google.com/notebooks/data_table.ipynb>data table notebook</a>'\n",
              "            + ' to learn more about interactive tables.';\n",
              "          element.innerHTML = '';\n",
              "          dataTable['output_type'] = 'display_data';\n",
              "          await google.colab.output.renderOutput(dataTable, element);\n",
              "          const docLink = document.createElement('div');\n",
              "          docLink.innerHTML = docLinkHtml;\n",
              "          element.appendChild(docLink);\n",
              "        }\n",
              "      </script>\n",
              "    </div>\n",
              "  </div>\n",
              "  "
            ]
          },
          "metadata": {},
          "execution_count": 83
        }
      ]
    },
    {
      "cell_type": "code",
      "source": [
        "df.describe()"
      ],
      "metadata": {
        "colab": {
          "base_uri": "https://localhost:8080/",
          "height": 300
        },
        "id": "QMGgbD0zYymS",
        "outputId": "d353d620-541c-481a-fd65-f5cd330fc968"
      },
      "execution_count": 85,
      "outputs": [
        {
          "output_type": "execute_result",
          "data": {
            "text/plain": [
              "               VAH       Cierre         Vwap         High  Rango_AreaValor\n",
              "count     7.000000     7.000000     7.000000     7.000000         7.000000\n",
              "mean   4339.607143  4225.750000  4215.057143  4464.357143       270.464286\n",
              "std     326.461708   262.988672   267.560475   250.235966        61.394121\n",
              "min    3919.750000  3781.000000  3884.030000  4144.000000       186.750000\n",
              "25%    4050.125000  4130.500000  3966.100000  4248.500000       226.750000\n",
              "50%    4457.750000  4135.250000  4373.950000  4581.250000       276.750000\n",
              "75%    4582.875000  4436.125000  4392.635000  4612.375000       305.250000\n",
              "max    4733.750000  4530.750000  4529.950000  4803.500000       365.750000"
            ],
            "text/html": [
              "\n",
              "  <div id=\"df-e3d5a2e0-2486-477f-8a17-a43ff029d68b\">\n",
              "    <div class=\"colab-df-container\">\n",
              "      <div>\n",
              "<style scoped>\n",
              "    .dataframe tbody tr th:only-of-type {\n",
              "        vertical-align: middle;\n",
              "    }\n",
              "\n",
              "    .dataframe tbody tr th {\n",
              "        vertical-align: top;\n",
              "    }\n",
              "\n",
              "    .dataframe thead th {\n",
              "        text-align: right;\n",
              "    }\n",
              "</style>\n",
              "<table border=\"1\" class=\"dataframe\">\n",
              "  <thead>\n",
              "    <tr style=\"text-align: right;\">\n",
              "      <th></th>\n",
              "      <th>VAH</th>\n",
              "      <th>Cierre</th>\n",
              "      <th>Vwap</th>\n",
              "      <th>High</th>\n",
              "      <th>Rango_AreaValor</th>\n",
              "    </tr>\n",
              "  </thead>\n",
              "  <tbody>\n",
              "    <tr>\n",
              "      <th>count</th>\n",
              "      <td>7.000000</td>\n",
              "      <td>7.000000</td>\n",
              "      <td>7.000000</td>\n",
              "      <td>7.000000</td>\n",
              "      <td>7.000000</td>\n",
              "    </tr>\n",
              "    <tr>\n",
              "      <th>mean</th>\n",
              "      <td>4339.607143</td>\n",
              "      <td>4225.750000</td>\n",
              "      <td>4215.057143</td>\n",
              "      <td>4464.357143</td>\n",
              "      <td>270.464286</td>\n",
              "    </tr>\n",
              "    <tr>\n",
              "      <th>std</th>\n",
              "      <td>326.461708</td>\n",
              "      <td>262.988672</td>\n",
              "      <td>267.560475</td>\n",
              "      <td>250.235966</td>\n",
              "      <td>61.394121</td>\n",
              "    </tr>\n",
              "    <tr>\n",
              "      <th>min</th>\n",
              "      <td>3919.750000</td>\n",
              "      <td>3781.000000</td>\n",
              "      <td>3884.030000</td>\n",
              "      <td>4144.000000</td>\n",
              "      <td>186.750000</td>\n",
              "    </tr>\n",
              "    <tr>\n",
              "      <th>25%</th>\n",
              "      <td>4050.125000</td>\n",
              "      <td>4130.500000</td>\n",
              "      <td>3966.100000</td>\n",
              "      <td>4248.500000</td>\n",
              "      <td>226.750000</td>\n",
              "    </tr>\n",
              "    <tr>\n",
              "      <th>50%</th>\n",
              "      <td>4457.750000</td>\n",
              "      <td>4135.250000</td>\n",
              "      <td>4373.950000</td>\n",
              "      <td>4581.250000</td>\n",
              "      <td>276.750000</td>\n",
              "    </tr>\n",
              "    <tr>\n",
              "      <th>75%</th>\n",
              "      <td>4582.875000</td>\n",
              "      <td>4436.125000</td>\n",
              "      <td>4392.635000</td>\n",
              "      <td>4612.375000</td>\n",
              "      <td>305.250000</td>\n",
              "    </tr>\n",
              "    <tr>\n",
              "      <th>max</th>\n",
              "      <td>4733.750000</td>\n",
              "      <td>4530.750000</td>\n",
              "      <td>4529.950000</td>\n",
              "      <td>4803.500000</td>\n",
              "      <td>365.750000</td>\n",
              "    </tr>\n",
              "  </tbody>\n",
              "</table>\n",
              "</div>\n",
              "      <button class=\"colab-df-convert\" onclick=\"convertToInteractive('df-e3d5a2e0-2486-477f-8a17-a43ff029d68b')\"\n",
              "              title=\"Convert this dataframe to an interactive table.\"\n",
              "              style=\"display:none;\">\n",
              "        \n",
              "  <svg xmlns=\"http://www.w3.org/2000/svg\" height=\"24px\"viewBox=\"0 0 24 24\"\n",
              "       width=\"24px\">\n",
              "    <path d=\"M0 0h24v24H0V0z\" fill=\"none\"/>\n",
              "    <path d=\"M18.56 5.44l.94 2.06.94-2.06 2.06-.94-2.06-.94-.94-2.06-.94 2.06-2.06.94zm-11 1L8.5 8.5l.94-2.06 2.06-.94-2.06-.94L8.5 2.5l-.94 2.06-2.06.94zm10 10l.94 2.06.94-2.06 2.06-.94-2.06-.94-.94-2.06-.94 2.06-2.06.94z\"/><path d=\"M17.41 7.96l-1.37-1.37c-.4-.4-.92-.59-1.43-.59-.52 0-1.04.2-1.43.59L10.3 9.45l-7.72 7.72c-.78.78-.78 2.05 0 2.83L4 21.41c.39.39.9.59 1.41.59.51 0 1.02-.2 1.41-.59l7.78-7.78 2.81-2.81c.8-.78.8-2.07 0-2.86zM5.41 20L4 18.59l7.72-7.72 1.47 1.35L5.41 20z\"/>\n",
              "  </svg>\n",
              "      </button>\n",
              "      \n",
              "  <style>\n",
              "    .colab-df-container {\n",
              "      display:flex;\n",
              "      flex-wrap:wrap;\n",
              "      gap: 12px;\n",
              "    }\n",
              "\n",
              "    .colab-df-convert {\n",
              "      background-color: #E8F0FE;\n",
              "      border: none;\n",
              "      border-radius: 50%;\n",
              "      cursor: pointer;\n",
              "      display: none;\n",
              "      fill: #1967D2;\n",
              "      height: 32px;\n",
              "      padding: 0 0 0 0;\n",
              "      width: 32px;\n",
              "    }\n",
              "\n",
              "    .colab-df-convert:hover {\n",
              "      background-color: #E2EBFA;\n",
              "      box-shadow: 0px 1px 2px rgba(60, 64, 67, 0.3), 0px 1px 3px 1px rgba(60, 64, 67, 0.15);\n",
              "      fill: #174EA6;\n",
              "    }\n",
              "\n",
              "    [theme=dark] .colab-df-convert {\n",
              "      background-color: #3B4455;\n",
              "      fill: #D2E3FC;\n",
              "    }\n",
              "\n",
              "    [theme=dark] .colab-df-convert:hover {\n",
              "      background-color: #434B5C;\n",
              "      box-shadow: 0px 1px 3px 1px rgba(0, 0, 0, 0.15);\n",
              "      filter: drop-shadow(0px 1px 2px rgba(0, 0, 0, 0.3));\n",
              "      fill: #FFFFFF;\n",
              "    }\n",
              "  </style>\n",
              "\n",
              "      <script>\n",
              "        const buttonEl =\n",
              "          document.querySelector('#df-e3d5a2e0-2486-477f-8a17-a43ff029d68b button.colab-df-convert');\n",
              "        buttonEl.style.display =\n",
              "          google.colab.kernel.accessAllowed ? 'block' : 'none';\n",
              "\n",
              "        async function convertToInteractive(key) {\n",
              "          const element = document.querySelector('#df-e3d5a2e0-2486-477f-8a17-a43ff029d68b');\n",
              "          const dataTable =\n",
              "            await google.colab.kernel.invokeFunction('convertToInteractive',\n",
              "                                                     [key], {});\n",
              "          if (!dataTable) return;\n",
              "\n",
              "          const docLinkHtml = 'Like what you see? Visit the ' +\n",
              "            '<a target=\"_blank\" href=https://colab.research.google.com/notebooks/data_table.ipynb>data table notebook</a>'\n",
              "            + ' to learn more about interactive tables.';\n",
              "          element.innerHTML = '';\n",
              "          dataTable['output_type'] = 'display_data';\n",
              "          await google.colab.output.renderOutput(dataTable, element);\n",
              "          const docLink = document.createElement('div');\n",
              "          docLink.innerHTML = docLinkHtml;\n",
              "          element.appendChild(docLink);\n",
              "        }\n",
              "      </script>\n",
              "    </div>\n",
              "  </div>\n",
              "  "
            ]
          },
          "metadata": {},
          "execution_count": 85
        }
      ]
    },
    {
      "cell_type": "code",
      "source": [
        "#Grafico de lineas, añadimos librerias\n",
        "import matplotlib.pyplot as plt\n",
        "import numpy as np"
      ],
      "metadata": {
        "id": "VmFEOHFnZEFh"
      },
      "execution_count": 6,
      "outputs": []
    },
    {
      "cell_type": "code",
      "source": [
        "#Graficos de lineas\n",
        "plt.plot(df['Mes'], df['Vol'])\n",
        "plt.show()"
      ],
      "metadata": {
        "colab": {
          "base_uri": "https://localhost:8080/",
          "height": 276
        },
        "id": "riHslCQeZH6J",
        "outputId": "ef75817b-5a70-44f8-f228-466db4187777"
      },
      "execution_count": 86,
      "outputs": [
        {
          "output_type": "display_data",
          "data": {
            "text/plain": [
              "<Figure size 432x288 with 1 Axes>"
            ],
            "image/png": "[encoded data removed]"
          },
          "metadata": {
            "needs_background": "light"
          }
        }
      ]
    },
    {
      "cell_type": "code",
      "source": [
        "#Graficos de puntos\n",
        "plt.scatter(df['Mes'],df['Vol'])\n",
        "plt.show()"
      ],
      "metadata": {
        "colab": {
          "base_uri": "https://localhost:8080/",
          "height": 276
        },
        "id": "VhlTorbFZRAR",
        "outputId": "f3123ded-b21c-4177-ee45-b787ffc14ddd"
      },
      "execution_count": 87,
      "outputs": [
        {
          "output_type": "display_data",
          "data": {
            "text/plain": [
              "<Figure size 432x288 with 1 Axes>"
            ],
            "image/png": "[encoded data removed]"
          },
          "metadata": {
            "needs_background": "light"
          }
        }
      ]
    },
    {
      "cell_type": "code",
      "source": [
        "#Grafico de barras\n",
        "plt.bar(df['Mes'],df['Open'])\n",
        "plt.show()"
      ],
      "metadata": {
        "colab": {
          "base_uri": "https://localhost:8080/",
          "height": 269
        },
        "id": "HTsNXXxCZjFB",
        "outputId": "c7a7d5cc-2034-4772-a5b3-e663f569cb3e"
      },
      "execution_count": 88,
      "outputs": [
        {
          "output_type": "display_data",
          "data": {
            "text/plain": [
              "<Figure size 432x288 with 1 Axes>"
            ],
            "image/png": "[encoded data removed]"
          },
          "metadata": {
            "needs_background": "light"
          }
        }
      ]
    },
    {
      "cell_type": "code",
      "source": [
        "#Grafico de barras ordenado\n",
        "df = df.sort_values('Open', ascending=False)\n",
        "plt.bar(df['Mes'],df['Open'])\n",
        "plt.show()"
      ],
      "metadata": {
        "colab": {
          "base_uri": "https://localhost:8080/",
          "height": 269
        },
        "id": "8U5g74uMaARK",
        "outputId": "9ad098da-1eb1-4192-e588-602d0ec83f32"
      },
      "execution_count": 89,
      "outputs": [
        {
          "output_type": "display_data",
          "data": {
            "text/plain": [
              "<Figure size 432x288 with 1 Axes>"
            ],
            "image/png": "[encoded data removed]"
          },
          "metadata": {
            "needs_background": "light"
          }
        }
      ]
    },
    {
      "cell_type": "code",
      "source": [
        "#Grafico de barras ordenado y con color: ----- colores, b= blue ...otros colores... g,r,c,m,y,k,w\n",
        "df = df.sort_values('Open', ascending=False)\n",
        "plt.bar(df['Mes'],df['Open'], color=['b','r','g'])\n",
        "plt.show()"
      ],
      "metadata": {
        "colab": {
          "base_uri": "https://localhost:8080/",
          "height": 269
        },
        "id": "a_39FH-taPxJ",
        "outputId": "b13466f6-3260-44cc-e64c-26dfdfe98a4c"
      },
      "execution_count": 90,
      "outputs": [
        {
          "output_type": "display_data",
          "data": {
            "text/plain": [
              "<Figure size 432x288 with 1 Axes>"
            ],
            "image/png": "[encoded data removed]"
          },
          "metadata": {
            "needs_background": "light"
          }
        }
      ]
    },
    {
      "cell_type": "code",
      "source": [
        "#Grafico de barras horizontal, ordenado y con color: ----- colores, b= blue ...otros colores... g,r,c,m,y,k,w\n",
        "df = df.sort_values('Open', ascending=False)\n",
        "plt.barh(df['Mes'],df['Open'], color=['b','r','g'])\n",
        "plt.show()"
      ],
      "metadata": {
        "colab": {
          "base_uri": "https://localhost:8080/",
          "height": 265
        },
        "id": "7t-yhjOWak3h",
        "outputId": "86eb9a3e-9233-43eb-d8af-729883e227cb"
      },
      "execution_count": 91,
      "outputs": [
        {
          "output_type": "display_data",
          "data": {
            "text/plain": [
              "<Figure size 432x288 with 1 Axes>"
            ],
            "image/png": "[encoded data removed]"
          },
          "metadata": {
            "needs_background": "light"
          }
        }
      ]
    },
    {
      "cell_type": "code",
      "source": [
        "df\n",
        "fig, ax = plt.subplots()\n",
        "df.plot(x = 'Mes', y = 'Vol', ax = ax)\n",
        "df.plot(x = 'Mes', y = 'Open', ax = ax)\n",
        "plt.show()"
      ],
      "metadata": {
        "colab": {
          "base_uri": "https://localhost:8080/",
          "height": 279
        },
        "id": "RdN7rUHEeqGZ",
        "outputId": "7a9bd4cd-8d3c-48f1-fbe7-9e4ba8ab7e14"
      },
      "execution_count": 93,
      "outputs": [
        {
          "output_type": "display_data",
          "data": {
            "text/plain": [
              "<Figure size 432x288 with 1 Axes>"
            ],
            "image/png": "[encoded data removed]"
          },
          "metadata": {
            "needs_background": "light"
          }
        }
      ]
    }
  ]
}