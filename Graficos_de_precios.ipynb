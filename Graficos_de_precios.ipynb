{
  "nbformat": 4,
  "nbformat_minor": 0,
  "metadata": {
    "colab": {
      "name": "Graficos-de-precios.ipynb",
      "provenance": [],
      "collapsed_sections": [],
      "authorship_tag": "ABX9TyPq0Ez9vLTTY6eFMHV/2I1I",
      "include_colab_link": true
    },
    "kernelspec": {
      "name": "python3",
      "display_name": "Python 3"
    },
    "language_info": {
      "name": "python"
    }
  },
  "cells": [
    {
      "cell_type": "markdown",
      "metadata": {
        "id": "view-in-github",
        "colab_type": "text"
      },
      "source": [
        "<a href=\"https://colab.research.google.com/github/jmmartinnu2/Trading/blob/main/Graficos_de_precios.ipynb\" target=\"_parent\"><img src=\"https://colab.research.google.com/assets/colab-badge.svg\" alt=\"Open In Colab\"/></a>"
      ]
    },
    {
      "cell_type": "code",
      "source": [
        "# Tratamiento de datos\n",
        "# ==============================================================================\n",
        "import numpy as np\n",
        "import pandas as pd\n",
        "# Gráficos\n",
        "# ==============================================================================\n",
        "import matplotlib.pyplot as plt"
      ],
      "metadata": {
        "id": "gFRyxf58fqbu"
      },
      "execution_count": 48,
      "outputs": []
    },
    {
      "cell_type": "code",
      "source": [
        "df = pd.DataFrame()\n",
        "\n",
        "# creamos las columnas\n",
        "df['Dia'] = None\n",
        "df['VAH'] = None\n",
        "df['Vpoc'] = None\n",
        "df['VAL'] = None\n",
        "df['Vol'] = None\n",
        "df['Cierre'] = None\n",
        "df['Range'] = None\n",
        "df['Vwap'] = None\n",
        "df['Open'] = None\n",
        "df['High'] = None\n",
        "df['Low'] = None\n",
        "df['Close'] = None\n",
        "df['Vol_VAH'] = None\n",
        "df['Vol_VPOC'] = None\n",
        "df['Vol_VAL'] = None\n",
        "df['Poc_Naked'] = False\n",
        "df['Rango_AreaValor'] = None\n",
        "df['delta']=None\n",
        "\n",
        "# añadimos filas por su nombre de fila\n",
        "df.loc[0] = ['Lunes 15 Agosto',4303.75,4298,4271,1275500,4299.25, 223, 4281.74,4277, 4304.75, 4249, 4298.25,400,78100,44500,False,32.75,-2100]\n",
        "df.loc[1] = ['Martes 16 Agosto',4314.50,4307.75,4290.75,1319200,4298.25,195,4300.80,4277,4327.50,4278.75,4298.25,19200,63100,51300,False,23.75,-12800]\n",
        "df.loc[2] = ['Miércoles 17 Agosto',4282.75,4276,4264,1582000,4276.75,240,4278.62,4309.25,4315,4255,4276.75,17100,108900,26000,False,18.75,-12400]\n",
        "#df.loc[3] = ['Jueves 18 Agosto',None,None,None,None,None, None, None, None, None, None, None]\n",
        "#df.loc[4] = ['Viernes 19 Agosto',None,None,None,None,None, None, None, None, None, None, None]\n",
        "\n",
        "df"
      ],
      "metadata": {
        "colab": {
          "base_uri": "https://localhost:8080/",
          "height": 143
        },
        "id": "1u-o2PSvfz9B",
        "outputId": "cdb11d27-1802-49a2-841c-0efb351ee930"
      },
      "execution_count": 40,
      "outputs": [
        {
          "output_type": "execute_result",
          "data": {
            "text/plain": [
              "                   Dia      VAH     Vpoc      VAL      Vol   Cierre Range  \\\n",
              "0      Lunes 15 Agosto  4303.75     4298     4271  1275500  4299.25   223   \n",
              "1     Martes 16 Agosto  4314.50  4307.75  4290.75  1319200  4298.25   195   \n",
              "2  Miércoles 17 Agosto  4282.75     4276     4264  1582000  4276.75   240   \n",
              "\n",
              "      Vwap     Open     High      Low    Close Vol_VAH Vol_VPOC Vol_VAL  \\\n",
              "0  4281.74     4277  4304.75     4249  4298.25     400    78100   44500   \n",
              "1  4300.80     4277  4327.50  4278.75  4298.25   19200    63100   51300   \n",
              "2  4278.62  4309.25  4315.00     4255  4276.75   17100   108900   26000   \n",
              "\n",
              "   Poc_Naked  Rango_AreaValor   delta  \n",
              "0      False            32.75   -2100  \n",
              "1      False            23.75  -12800  \n",
              "2      False            18.75  -12400  "
            ],
            "text/html": [
              "\n",
              "  <div id=\"df-46b133fd-f34d-4f57-9e72-d2c971bbb6b6\">\n",
              "    <div class=\"colab-df-container\">\n",
              "      <div>\n",
              "<style scoped>\n",
              "    .dataframe tbody tr th:only-of-type {\n",
              "        vertical-align: middle;\n",
              "    }\n",
              "\n",
              "    .dataframe tbody tr th {\n",
              "        vertical-align: top;\n",
              "    }\n",
              "\n",
              "    .dataframe thead th {\n",
              "        text-align: right;\n",
              "    }\n",
              "</style>\n",
              "<table border=\"1\" class=\"dataframe\">\n",
              "  <thead>\n",
              "    <tr style=\"text-align: right;\">\n",
              "      <th></th>\n",
              "      <th>Dia</th>\n",
              "      <th>VAH</th>\n",
              "      <th>Vpoc</th>\n",
              "      <th>VAL</th>\n",
              "      <th>Vol</th>\n",
              "      <th>Cierre</th>\n",
              "      <th>Range</th>\n",
              "      <th>Vwap</th>\n",
              "      <th>Open</th>\n",
              "      <th>High</th>\n",
              "      <th>Low</th>\n",
              "      <th>Close</th>\n",
              "      <th>Vol_VAH</th>\n",
              "      <th>Vol_VPOC</th>\n",
              "      <th>Vol_VAL</th>\n",
              "      <th>Poc_Naked</th>\n",
              "      <th>Rango_AreaValor</th>\n",
              "      <th>delta</th>\n",
              "    </tr>\n",
              "  </thead>\n",
              "  <tbody>\n",
              "    <tr>\n",
              "      <th>0</th>\n",
              "      <td>Lunes 15 Agosto</td>\n",
              "      <td>4303.75</td>\n",
              "      <td>4298</td>\n",
              "      <td>4271</td>\n",
              "      <td>1275500</td>\n",
              "      <td>4299.25</td>\n",
              "      <td>223</td>\n",
              "      <td>4281.74</td>\n",
              "      <td>4277</td>\n",
              "      <td>4304.75</td>\n",
              "      <td>4249</td>\n",
              "      <td>4298.25</td>\n",
              "      <td>400</td>\n",
              "      <td>78100</td>\n",
              "      <td>44500</td>\n",
              "      <td>False</td>\n",
              "      <td>32.75</td>\n",
              "      <td>-2100</td>\n",
              "    </tr>\n",
              "    <tr>\n",
              "      <th>1</th>\n",
              "      <td>Martes 16 Agosto</td>\n",
              "      <td>4314.50</td>\n",
              "      <td>4307.75</td>\n",
              "      <td>4290.75</td>\n",
              "      <td>1319200</td>\n",
              "      <td>4298.25</td>\n",
              "      <td>195</td>\n",
              "      <td>4300.80</td>\n",
              "      <td>4277</td>\n",
              "      <td>4327.50</td>\n",
              "      <td>4278.75</td>\n",
              "      <td>4298.25</td>\n",
              "      <td>19200</td>\n",
              "      <td>63100</td>\n",
              "      <td>51300</td>\n",
              "      <td>False</td>\n",
              "      <td>23.75</td>\n",
              "      <td>-12800</td>\n",
              "    </tr>\n",
              "    <tr>\n",
              "      <th>2</th>\n",
              "      <td>Miércoles 17 Agosto</td>\n",
              "      <td>4282.75</td>\n",
              "      <td>4276</td>\n",
              "      <td>4264</td>\n",
              "      <td>1582000</td>\n",
              "      <td>4276.75</td>\n",
              "      <td>240</td>\n",
              "      <td>4278.62</td>\n",
              "      <td>4309.25</td>\n",
              "      <td>4315.00</td>\n",
              "      <td>4255</td>\n",
              "      <td>4276.75</td>\n",
              "      <td>17100</td>\n",
              "      <td>108900</td>\n",
              "      <td>26000</td>\n",
              "      <td>False</td>\n",
              "      <td>18.75</td>\n",
              "      <td>-12400</td>\n",
              "    </tr>\n",
              "  </tbody>\n",
              "</table>\n",
              "</div>\n",
              "      <button class=\"colab-df-convert\" onclick=\"convertToInteractive('df-46b133fd-f34d-4f57-9e72-d2c971bbb6b6')\"\n",
              "              title=\"Convert this dataframe to an interactive table.\"\n",
              "              style=\"display:none;\">\n",
              "        \n",
              "  <svg xmlns=\"http://www.w3.org/2000/svg\" height=\"24px\"viewBox=\"0 0 24 24\"\n",
              "       width=\"24px\">\n",
              "    <path d=\"M0 0h24v24H0V0z\" fill=\"none\"/>\n",
              "    <path d=\"M18.56 5.44l.94 2.06.94-2.06 2.06-.94-2.06-.94-.94-2.06-.94 2.06-2.06.94zm-11 1L8.5 8.5l.94-2.06 2.06-.94-2.06-.94L8.5 2.5l-.94 2.06-2.06.94zm10 10l.94 2.06.94-2.06 2.06-.94-2.06-.94-.94-2.06-.94 2.06-2.06.94z\"/><path d=\"M17.41 7.96l-1.37-1.37c-.4-.4-.92-.59-1.43-.59-.52 0-1.04.2-1.43.59L10.3 9.45l-7.72 7.72c-.78.78-.78 2.05 0 2.83L4 21.41c.39.39.9.59 1.41.59.51 0 1.02-.2 1.41-.59l7.78-7.78 2.81-2.81c.8-.78.8-2.07 0-2.86zM5.41 20L4 18.59l7.72-7.72 1.47 1.35L5.41 20z\"/>\n",
              "  </svg>\n",
              "      </button>\n",
              "      \n",
              "  <style>\n",
              "    .colab-df-container {\n",
              "      display:flex;\n",
              "      flex-wrap:wrap;\n",
              "      gap: 12px;\n",
              "    }\n",
              "\n",
              "    .colab-df-convert {\n",
              "      background-color: #E8F0FE;\n",
              "      border: none;\n",
              "      border-radius: 50%;\n",
              "      cursor: pointer;\n",
              "      display: none;\n",
              "      fill: #1967D2;\n",
              "      height: 32px;\n",
              "      padding: 0 0 0 0;\n",
              "      width: 32px;\n",
              "    }\n",
              "\n",
              "    .colab-df-convert:hover {\n",
              "      background-color: #E2EBFA;\n",
              "      box-shadow: 0px 1px 2px rgba(60, 64, 67, 0.3), 0px 1px 3px 1px rgba(60, 64, 67, 0.15);\n",
              "      fill: #174EA6;\n",
              "    }\n",
              "\n",
              "    [theme=dark] .colab-df-convert {\n",
              "      background-color: #3B4455;\n",
              "      fill: #D2E3FC;\n",
              "    }\n",
              "\n",
              "    [theme=dark] .colab-df-convert:hover {\n",
              "      background-color: #434B5C;\n",
              "      box-shadow: 0px 1px 3px 1px rgba(0, 0, 0, 0.15);\n",
              "      filter: drop-shadow(0px 1px 2px rgba(0, 0, 0, 0.3));\n",
              "      fill: #FFFFFF;\n",
              "    }\n",
              "  </style>\n",
              "\n",
              "      <script>\n",
              "        const buttonEl =\n",
              "          document.querySelector('#df-46b133fd-f34d-4f57-9e72-d2c971bbb6b6 button.colab-df-convert');\n",
              "        buttonEl.style.display =\n",
              "          google.colab.kernel.accessAllowed ? 'block' : 'none';\n",
              "\n",
              "        async function convertToInteractive(key) {\n",
              "          const element = document.querySelector('#df-46b133fd-f34d-4f57-9e72-d2c971bbb6b6');\n",
              "          const dataTable =\n",
              "            await google.colab.kernel.invokeFunction('convertToInteractive',\n",
              "                                                     [key], {});\n",
              "          if (!dataTable) return;\n",
              "\n",
              "          const docLinkHtml = 'Like what you see? Visit the ' +\n",
              "            '<a target=\"_blank\" href=https://colab.research.google.com/notebooks/data_table.ipynb>data table notebook</a>'\n",
              "            + ' to learn more about interactive tables.';\n",
              "          element.innerHTML = '';\n",
              "          dataTable['output_type'] = 'display_data';\n",
              "          await google.colab.output.renderOutput(dataTable, element);\n",
              "          const docLink = document.createElement('div');\n",
              "          docLink.innerHTML = docLinkHtml;\n",
              "          element.appendChild(docLink);\n",
              "        }\n",
              "      </script>\n",
              "    </div>\n",
              "  </div>\n",
              "  "
            ]
          },
          "metadata": {},
          "execution_count": 40
        }
      ]
    },
    {
      "cell_type": "code",
      "source": [
        "#Rango de precios diarios sin etiquetas\n",
        "valor1 = df['Dia'].unique()\n",
        "valor2 = df['Rango_AreaValor'].values\n",
        "plt.bar(valor1, valor2)\n",
        "plt.show()\n",
        "plt.close('all')"
      ],
      "metadata": {
        "colab": {
          "base_uri": "https://localhost:8080/",
          "height": 262
        },
        "id": "C2Lg95aDk_JT",
        "outputId": "ec46b423-e532-4ee7-d3dd-8607225d5e04"
      },
      "execution_count": 155,
      "outputs": [
        {
          "output_type": "display_data",
          "data": {
            "text/plain": [
              "<Figure size 432x288 with 1 Axes>"
            ],
            "image/png": "[encoded data removed]"
          },
          "metadata": {
            "needs_background": "dark"
          }
        }
      ]
    },
    {
      "cell_type": "code",
      "source": [
        "#Rango de precios diarios con etiquetas\n",
        "plt.figure()    #Figura. Puede incluirse el tamaño con figsize\n",
        "plt.bar(valor1, valor2)          #El gráfico\n",
        "plt.title('Rango de precios diarios')      #El título\n",
        "ax = plt.subplot()                   #Axis\n",
        "ax.set_xticks(valor1)             #Eje x\n",
        "ax.set_xticklabels(valor1)        #Etiquetas del eje x\n",
        "ax.set_xlabel('Dia de la semana')  #Nombre del eje x\n",
        "ax.set_ylabel('Rango de precios')  #Nombre del eje y"
      ],
      "metadata": {
        "colab": {
          "base_uri": "https://localhost:8080/",
          "height": 385
        },
        "id": "gvjfskSnnBjj",
        "outputId": "ba5e8ce4-bf38-4fce-a003-ebb9106fa467"
      },
      "execution_count": 156,
      "outputs": [
        {
          "output_type": "stream",
          "name": "stderr",
          "text": [
            "/usr/local/lib/python3.7/dist-packages/ipykernel_launcher.py:5: MatplotlibDeprecationWarning: Adding an axes using the same arguments as a previous axes currently reuses the earlier instance.  In a future version, a new instance will always be created and returned.  Meanwhile, this warning can be suppressed, and the future behavior ensured, by passing a unique label to each axes instance.\n",
            "  \"\"\"\n"
          ]
        },
        {
          "output_type": "execute_result",
          "data": {
            "text/plain": [
              "Text(0, 0.5, 'Rango de precios')"
            ]
          },
          "metadata": {},
          "execution_count": 156
        },
        {
          "output_type": "stream",
          "name": "stderr",
          "text": [
            "WARNING:matplotlib.font_manager:findfont: Font family ['sans-serif'] not found. Falling back to DejaVu Sans.\n",
            "WARNING:matplotlib.font_manager:findfont: Font family ['sans-serif'] not found. Falling back to DejaVu Sans.\n"
          ]
        },
        {
          "output_type": "display_data",
          "data": {
            "text/plain": [
              "<Figure size 432x288 with 1 Axes>"
            ],
            "image/png": "[encoded data removed]"
          },
          "metadata": {
            "needs_background": "dark"
          }
        }
      ]
    },
    {
      "cell_type": "code",
      "source": [
        "plt.figure()                                #Figura \n",
        "x_values1 = df.Dia.unique()\n",
        "y_values1 = df.Rango_AreaValor.value_counts().tolist()\n",
        "ax = plt.subplot(1, 1, 1)                   #Axis\n",
        "plt.bar(valor1, valor2)               #El gráfico\n",
        "plt.title('Volumenes')              #El título\n",
        "ax.set_xticks(valor1)                    #Eje x\n",
        "ax.set_xticklabels(valor1, rotation=60)  #Etiquetas del eje x\n",
        "ax.set_xlabel('Dia de la semana')            #Nombre del eje x\n",
        "ax.set_ylabel('Volumen de peticiones')      #Nombre del eje y"
      ],
      "metadata": {
        "colab": {
          "base_uri": "https://localhost:8080/",
          "height": 395
        },
        "id": "gjJWZ1B_k_OJ",
        "outputId": "be9ec935-c5fd-46d5-d23a-045c2b845943"
      },
      "execution_count": 158,
      "outputs": [
        {
          "output_type": "execute_result",
          "data": {
            "text/plain": [
              "Text(0, 0.5, 'Volumen de peticiones')"
            ]
          },
          "metadata": {},
          "execution_count": 158
        },
        {
          "output_type": "display_data",
          "data": {
            "text/plain": [
              "<Figure size 432x288 with 1 Axes>"
            ],
            "image/png": "[encoded data removed]"
          },
          "metadata": {
            "needs_background": "dark"
          }
        }
      ]
    }
  ]
}