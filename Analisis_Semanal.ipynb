{
  "nbformat": 4,
  "nbformat_minor": 0,
  "metadata": {
    "colab": {
      "name": "Analisis-Semanal.ipynb",
      "provenance": [],
      "collapsed_sections": [],
      "authorship_tag": "ABX9TyOMMGwX9y2EXRJSCIRIBLYE",
      "include_colab_link": true
    },
    "kernelspec": {
      "name": "python3",
      "display_name": "Python 3"
    },
    "language_info": {
      "name": "python"
    }
  },
  "cells": [
    {
      "cell_type": "markdown",
      "metadata": {
        "id": "view-in-github",
        "colab_type": "text"
      },
      "source": [
        "<a href=\"https://colab.research.google.com/github/jmmartinnu2/Trading/blob/main/Analisis_Semanal.ipynb\" target=\"_parent\"><img src=\"https://colab.research.google.com/assets/colab-badge.svg\" alt=\"Open In Colab\"/></a>"
      ]
    },
    {
      "cell_type": "markdown",
      "source": [
        "#VAMOS A RECOPILAR DATOS DEL FUTURO ES, DIARIAMENTE"
      ],
      "metadata": {
        "id": "EjCqd9M7WavX"
      }
    },
    {
      "cell_type": "code",
      "source": [
        "#creamos nuestro dataframe importamos librerias a usar\n",
        "import pandas as pd\n",
        "import numpy as np"
      ],
      "metadata": {
        "id": "Ek6iCGPdXoyN"
      },
      "execution_count": null,
      "outputs": []
    },
    {
      "cell_type": "code",
      "source": [
        "import pandas as pd\n",
        "\n",
        "df = pd.DataFrame()\n",
        "\n",
        "# creamos las columnas\n",
        "df['Dia'] = None\n",
        "df['VAH'] = None\n",
        "df['Vpoc'] = None\n",
        "df['VAL'] = None\n",
        "df['Vol'] = None\n",
        "df['Cierre'] = None\n",
        "df['Range'] = None\n",
        "df['Vwap'] = None\n",
        "df['Open'] = None\n",
        "df['High'] = None\n",
        "df['Low'] = None\n",
        "df['Close'] = None\n",
        "df['Vol_VAH'] = None\n",
        "df['Vol_VPOC'] = None\n",
        "df['Vol_VAL'] = None\n",
        "df['Poc_Naked'] = False\n",
        "df['Rango_AreaValor'] = None\n",
        "df['delta']=None\n",
        "\n",
        "# añadimos filas por su nombre de fila\n",
        "df.loc[0] = ['Lunes 15 Agosto',4303.75,4298,4271,1275500,4299.25, 223, 4281.74,4277, 4304.75, 4249, 4298.25,400,78100,44500,False,32.75,-2100]\n",
        "df.loc[1] = ['Martes 16 Agosto',4314.50,4307.75,4290.75,1319200,4298.25,195,4300.80,4277,4327.50,4278.75,4298.25,19200,63100,51300,False,23.75,-12800]\n",
        "df.loc[2] = ['Miércoles 17 Agosto',4282.75,4276,4264,1582000,4276.75,240,4278.62,4309.25,4315,4255,4276.75,17100,108900,26000,False,18.75,-12400]\n",
        "#df.loc[3] = ['Jueves 18 Agosto',None,None,None,None,None, None, None, None, None, None, None]\n",
        "#df.loc[4] = ['Viernes 19 Agosto',None,None,None,None,None, None, None, None, None, None, None]\n",
        "\n",
        "df"
      ],
      "metadata": {
        "colab": {
          "base_uri": "https://localhost:8080/",
          "height": 143
        },
        "id": "YznkQdL5hsYF",
        "outputId": "5b3a224c-be2b-477d-d599-7e953678aa71"
      },
      "execution_count": 2,
      "outputs": [
        {
          "output_type": "execute_result",
          "data": {
            "text/plain": [
              "                   Dia      VAH     Vpoc      VAL      Vol   Cierre Range  \\\n",
              "0      Lunes 15 Agosto  4303.75     4298     4271  1275500  4299.25   223   \n",
              "1     Martes 16 Agosto  4314.50  4307.75  4290.75  1319200  4298.25   195   \n",
              "2  Miércoles 17 Agosto  4282.75     4276     4264  1582000  4276.75   240   \n",
              "\n",
              "      Vwap     Open     High      Low    Close Vol_VAH Vol_VPOC Vol_VAL  \\\n",
              "0  4281.74     4277  4304.75     4249  4298.25     400    78100   44500   \n",
              "1  4300.80     4277  4327.50  4278.75  4298.25   19200    63100   51300   \n",
              "2  4278.62  4309.25  4315.00     4255  4276.75   17100   108900   26000   \n",
              "\n",
              "   Poc_Naked  Rango_AreaValor   delta  \n",
              "0      False            32.75   -2100  \n",
              "1      False            23.75  -12800  \n",
              "2      False            18.75  -12400  "
            ],
            "text/html": [
              "\n",
              "  <div id=\"df-fd0332e1-7404-489b-931b-bc185dcfccd5\">\n",
              "    <div class=\"colab-df-container\">\n",
              "      <div>\n",
              "<style scoped>\n",
              "    .dataframe tbody tr th:only-of-type {\n",
              "        vertical-align: middle;\n",
              "    }\n",
              "\n",
              "    .dataframe tbody tr th {\n",
              "        vertical-align: top;\n",
              "    }\n",
              "\n",
              "    .dataframe thead th {\n",
              "        text-align: right;\n",
              "    }\n",
              "</style>\n",
              "<table border=\"1\" class=\"dataframe\">\n",
              "  <thead>\n",
              "    <tr style=\"text-align: right;\">\n",
              "      <th></th>\n",
              "      <th>Dia</th>\n",
              "      <th>VAH</th>\n",
              "      <th>Vpoc</th>\n",
              "      <th>VAL</th>\n",
              "      <th>Vol</th>\n",
              "      <th>Cierre</th>\n",
              "      <th>Range</th>\n",
              "      <th>Vwap</th>\n",
              "      <th>Open</th>\n",
              "      <th>High</th>\n",
              "      <th>Low</th>\n",
              "      <th>Close</th>\n",
              "      <th>Vol_VAH</th>\n",
              "      <th>Vol_VPOC</th>\n",
              "      <th>Vol_VAL</th>\n",
              "      <th>Poc_Naked</th>\n",
              "      <th>Rango_AreaValor</th>\n",
              "      <th>delta</th>\n",
              "    </tr>\n",
              "  </thead>\n",
              "  <tbody>\n",
              "    <tr>\n",
              "      <th>0</th>\n",
              "      <td>Lunes 15 Agosto</td>\n",
              "      <td>4303.75</td>\n",
              "      <td>4298</td>\n",
              "      <td>4271</td>\n",
              "      <td>1275500</td>\n",
              "      <td>4299.25</td>\n",
              "      <td>223</td>\n",
              "      <td>4281.74</td>\n",
              "      <td>4277</td>\n",
              "      <td>4304.75</td>\n",
              "      <td>4249</td>\n",
              "      <td>4298.25</td>\n",
              "      <td>400</td>\n",
              "      <td>78100</td>\n",
              "      <td>44500</td>\n",
              "      <td>False</td>\n",
              "      <td>32.75</td>\n",
              "      <td>-2100</td>\n",
              "    </tr>\n",
              "    <tr>\n",
              "      <th>1</th>\n",
              "      <td>Martes 16 Agosto</td>\n",
              "      <td>4314.50</td>\n",
              "      <td>4307.75</td>\n",
              "      <td>4290.75</td>\n",
              "      <td>1319200</td>\n",
              "      <td>4298.25</td>\n",
              "      <td>195</td>\n",
              "      <td>4300.80</td>\n",
              "      <td>4277</td>\n",
              "      <td>4327.50</td>\n",
              "      <td>4278.75</td>\n",
              "      <td>4298.25</td>\n",
              "      <td>19200</td>\n",
              "      <td>63100</td>\n",
              "      <td>51300</td>\n",
              "      <td>False</td>\n",
              "      <td>23.75</td>\n",
              "      <td>-12800</td>\n",
              "    </tr>\n",
              "    <tr>\n",
              "      <th>2</th>\n",
              "      <td>Miércoles 17 Agosto</td>\n",
              "      <td>4282.75</td>\n",
              "      <td>4276</td>\n",
              "      <td>4264</td>\n",
              "      <td>1582000</td>\n",
              "      <td>4276.75</td>\n",
              "      <td>240</td>\n",
              "      <td>4278.62</td>\n",
              "      <td>4309.25</td>\n",
              "      <td>4315.00</td>\n",
              "      <td>4255</td>\n",
              "      <td>4276.75</td>\n",
              "      <td>17100</td>\n",
              "      <td>108900</td>\n",
              "      <td>26000</td>\n",
              "      <td>False</td>\n",
              "      <td>18.75</td>\n",
              "      <td>-12400</td>\n",
              "    </tr>\n",
              "  </tbody>\n",
              "</table>\n",
              "</div>\n",
              "      <button class=\"colab-df-convert\" onclick=\"convertToInteractive('df-fd0332e1-7404-489b-931b-bc185dcfccd5')\"\n",
              "              title=\"Convert this dataframe to an interactive table.\"\n",
              "              style=\"display:none;\">\n",
              "        \n",
              "  <svg xmlns=\"http://www.w3.org/2000/svg\" height=\"24px\"viewBox=\"0 0 24 24\"\n",
              "       width=\"24px\">\n",
              "    <path d=\"M0 0h24v24H0V0z\" fill=\"none\"/>\n",
              "    <path d=\"M18.56 5.44l.94 2.06.94-2.06 2.06-.94-2.06-.94-.94-2.06-.94 2.06-2.06.94zm-11 1L8.5 8.5l.94-2.06 2.06-.94-2.06-.94L8.5 2.5l-.94 2.06-2.06.94zm10 10l.94 2.06.94-2.06 2.06-.94-2.06-.94-.94-2.06-.94 2.06-2.06.94z\"/><path d=\"M17.41 7.96l-1.37-1.37c-.4-.4-.92-.59-1.43-.59-.52 0-1.04.2-1.43.59L10.3 9.45l-7.72 7.72c-.78.78-.78 2.05 0 2.83L4 21.41c.39.39.9.59 1.41.59.51 0 1.02-.2 1.41-.59l7.78-7.78 2.81-2.81c.8-.78.8-2.07 0-2.86zM5.41 20L4 18.59l7.72-7.72 1.47 1.35L5.41 20z\"/>\n",
              "  </svg>\n",
              "      </button>\n",
              "      \n",
              "  <style>\n",
              "    .colab-df-container {\n",
              "      display:flex;\n",
              "      flex-wrap:wrap;\n",
              "      gap: 12px;\n",
              "    }\n",
              "\n",
              "    .colab-df-convert {\n",
              "      background-color: #E8F0FE;\n",
              "      border: none;\n",
              "      border-radius: 50%;\n",
              "      cursor: pointer;\n",
              "      display: none;\n",
              "      fill: #1967D2;\n",
              "      height: 32px;\n",
              "      padding: 0 0 0 0;\n",
              "      width: 32px;\n",
              "    }\n",
              "\n",
              "    .colab-df-convert:hover {\n",
              "      background-color: #E2EBFA;\n",
              "      box-shadow: 0px 1px 2px rgba(60, 64, 67, 0.3), 0px 1px 3px 1px rgba(60, 64, 67, 0.15);\n",
              "      fill: #174EA6;\n",
              "    }\n",
              "\n",
              "    [theme=dark] .colab-df-convert {\n",
              "      background-color: #3B4455;\n",
              "      fill: #D2E3FC;\n",
              "    }\n",
              "\n",
              "    [theme=dark] .colab-df-convert:hover {\n",
              "      background-color: #434B5C;\n",
              "      box-shadow: 0px 1px 3px 1px rgba(0, 0, 0, 0.15);\n",
              "      filter: drop-shadow(0px 1px 2px rgba(0, 0, 0, 0.3));\n",
              "      fill: #FFFFFF;\n",
              "    }\n",
              "  </style>\n",
              "\n",
              "      <script>\n",
              "        const buttonEl =\n",
              "          document.querySelector('#df-fd0332e1-7404-489b-931b-bc185dcfccd5 button.colab-df-convert');\n",
              "        buttonEl.style.display =\n",
              "          google.colab.kernel.accessAllowed ? 'block' : 'none';\n",
              "\n",
              "        async function convertToInteractive(key) {\n",
              "          const element = document.querySelector('#df-fd0332e1-7404-489b-931b-bc185dcfccd5');\n",
              "          const dataTable =\n",
              "            await google.colab.kernel.invokeFunction('convertToInteractive',\n",
              "                                                     [key], {});\n",
              "          if (!dataTable) return;\n",
              "\n",
              "          const docLinkHtml = 'Like what you see? Visit the ' +\n",
              "            '<a target=\"_blank\" href=https://colab.research.google.com/notebooks/data_table.ipynb>data table notebook</a>'\n",
              "            + ' to learn more about interactive tables.';\n",
              "          element.innerHTML = '';\n",
              "          dataTable['output_type'] = 'display_data';\n",
              "          await google.colab.output.renderOutput(dataTable, element);\n",
              "          const docLink = document.createElement('div');\n",
              "          docLink.innerHTML = docLinkHtml;\n",
              "          element.appendChild(docLink);\n",
              "        }\n",
              "      </script>\n",
              "    </div>\n",
              "  </div>\n",
              "  "
            ]
          },
          "metadata": {},
          "execution_count": 2
        }
      ]
    },
    {
      "cell_type": "code",
      "source": [
        "import matplotlib.pyplot as plt\n",
        "import numpy as np\n"
      ],
      "metadata": {
        "id": "IzLIuYi17lvF"
      },
      "execution_count": 3,
      "outputs": []
    },
    {
      "cell_type": "code",
      "source": [
        "#Estadisticas \n",
        "df.describe()"
      ],
      "metadata": {
        "colab": {
          "base_uri": "https://localhost:8080/",
          "height": 279
        },
        "id": "TBGDZR8q7q-V",
        "outputId": "78bb7305-7e3b-4ce2-be58-8b405259ba1b"
      },
      "execution_count": 4,
      "outputs": [
        {
          "output_type": "execute_result",
          "data": {
            "text/plain": [
              "               VAH       Cierre         Vwap         High        Close  \\\n",
              "count     3.000000     3.000000     3.000000     3.000000     3.000000   \n",
              "mean   4300.333333  4291.416667  4287.053333  4315.750000  4291.083333   \n",
              "std      16.148400    12.711543    12.006737    11.393529    12.413031   \n",
              "min    4282.750000  4276.750000  4278.620000  4304.750000  4276.750000   \n",
              "25%    4293.250000  4287.500000  4280.180000  4309.875000  4287.500000   \n",
              "50%    4303.750000  4298.250000  4281.740000  4315.000000  4298.250000   \n",
              "75%    4309.125000  4298.750000  4291.270000  4321.250000  4298.250000   \n",
              "max    4314.500000  4299.250000  4300.800000  4327.500000  4298.250000   \n",
              "\n",
              "       Rango_AreaValor  \n",
              "count         3.000000  \n",
              "mean         25.083333  \n",
              "std           7.094599  \n",
              "min          18.750000  \n",
              "25%          21.250000  \n",
              "50%          23.750000  \n",
              "75%          28.250000  \n",
              "max          32.750000  "
            ],
            "text/html": [
              "\n",
              "  <div id=\"df-8b5a90ae-508f-4653-9fcc-357fd30b43e5\">\n",
              "    <div class=\"colab-df-container\">\n",
              "      <div>\n",
              "<style scoped>\n",
              "    .dataframe tbody tr th:only-of-type {\n",
              "        vertical-align: middle;\n",
              "    }\n",
              "\n",
              "    .dataframe tbody tr th {\n",
              "        vertical-align: top;\n",
              "    }\n",
              "\n",
              "    .dataframe thead th {\n",
              "        text-align: right;\n",
              "    }\n",
              "</style>\n",
              "<table border=\"1\" class=\"dataframe\">\n",
              "  <thead>\n",
              "    <tr style=\"text-align: right;\">\n",
              "      <th></th>\n",
              "      <th>VAH</th>\n",
              "      <th>Cierre</th>\n",
              "      <th>Vwap</th>\n",
              "      <th>High</th>\n",
              "      <th>Close</th>\n",
              "      <th>Rango_AreaValor</th>\n",
              "    </tr>\n",
              "  </thead>\n",
              "  <tbody>\n",
              "    <tr>\n",
              "      <th>count</th>\n",
              "      <td>3.000000</td>\n",
              "      <td>3.000000</td>\n",
              "      <td>3.000000</td>\n",
              "      <td>3.000000</td>\n",
              "      <td>3.000000</td>\n",
              "      <td>3.000000</td>\n",
              "    </tr>\n",
              "    <tr>\n",
              "      <th>mean</th>\n",
              "      <td>4300.333333</td>\n",
              "      <td>4291.416667</td>\n",
              "      <td>4287.053333</td>\n",
              "      <td>4315.750000</td>\n",
              "      <td>4291.083333</td>\n",
              "      <td>25.083333</td>\n",
              "    </tr>\n",
              "    <tr>\n",
              "      <th>std</th>\n",
              "      <td>16.148400</td>\n",
              "      <td>12.711543</td>\n",
              "      <td>12.006737</td>\n",
              "      <td>11.393529</td>\n",
              "      <td>12.413031</td>\n",
              "      <td>7.094599</td>\n",
              "    </tr>\n",
              "    <tr>\n",
              "      <th>min</th>\n",
              "      <td>4282.750000</td>\n",
              "      <td>4276.750000</td>\n",
              "      <td>4278.620000</td>\n",
              "      <td>4304.750000</td>\n",
              "      <td>4276.750000</td>\n",
              "      <td>18.750000</td>\n",
              "    </tr>\n",
              "    <tr>\n",
              "      <th>25%</th>\n",
              "      <td>4293.250000</td>\n",
              "      <td>4287.500000</td>\n",
              "      <td>4280.180000</td>\n",
              "      <td>4309.875000</td>\n",
              "      <td>4287.500000</td>\n",
              "      <td>21.250000</td>\n",
              "    </tr>\n",
              "    <tr>\n",
              "      <th>50%</th>\n",
              "      <td>4303.750000</td>\n",
              "      <td>4298.250000</td>\n",
              "      <td>4281.740000</td>\n",
              "      <td>4315.000000</td>\n",
              "      <td>4298.250000</td>\n",
              "      <td>23.750000</td>\n",
              "    </tr>\n",
              "    <tr>\n",
              "      <th>75%</th>\n",
              "      <td>4309.125000</td>\n",
              "      <td>4298.750000</td>\n",
              "      <td>4291.270000</td>\n",
              "      <td>4321.250000</td>\n",
              "      <td>4298.250000</td>\n",
              "      <td>28.250000</td>\n",
              "    </tr>\n",
              "    <tr>\n",
              "      <th>max</th>\n",
              "      <td>4314.500000</td>\n",
              "      <td>4299.250000</td>\n",
              "      <td>4300.800000</td>\n",
              "      <td>4327.500000</td>\n",
              "      <td>4298.250000</td>\n",
              "      <td>32.750000</td>\n",
              "    </tr>\n",
              "  </tbody>\n",
              "</table>\n",
              "</div>\n",
              "      <button class=\"colab-df-convert\" onclick=\"convertToInteractive('df-8b5a90ae-508f-4653-9fcc-357fd30b43e5')\"\n",
              "              title=\"Convert this dataframe to an interactive table.\"\n",
              "              style=\"display:none;\">\n",
              "        \n",
              "  <svg xmlns=\"http://www.w3.org/2000/svg\" height=\"24px\"viewBox=\"0 0 24 24\"\n",
              "       width=\"24px\">\n",
              "    <path d=\"M0 0h24v24H0V0z\" fill=\"none\"/>\n",
              "    <path d=\"M18.56 5.44l.94 2.06.94-2.06 2.06-.94-2.06-.94-.94-2.06-.94 2.06-2.06.94zm-11 1L8.5 8.5l.94-2.06 2.06-.94-2.06-.94L8.5 2.5l-.94 2.06-2.06.94zm10 10l.94 2.06.94-2.06 2.06-.94-2.06-.94-.94-2.06-.94 2.06-2.06.94z\"/><path d=\"M17.41 7.96l-1.37-1.37c-.4-.4-.92-.59-1.43-.59-.52 0-1.04.2-1.43.59L10.3 9.45l-7.72 7.72c-.78.78-.78 2.05 0 2.83L4 21.41c.39.39.9.59 1.41.59.51 0 1.02-.2 1.41-.59l7.78-7.78 2.81-2.81c.8-.78.8-2.07 0-2.86zM5.41 20L4 18.59l7.72-7.72 1.47 1.35L5.41 20z\"/>\n",
              "  </svg>\n",
              "      </button>\n",
              "      \n",
              "  <style>\n",
              "    .colab-df-container {\n",
              "      display:flex;\n",
              "      flex-wrap:wrap;\n",
              "      gap: 12px;\n",
              "    }\n",
              "\n",
              "    .colab-df-convert {\n",
              "      background-color: #E8F0FE;\n",
              "      border: none;\n",
              "      border-radius: 50%;\n",
              "      cursor: pointer;\n",
              "      display: none;\n",
              "      fill: #1967D2;\n",
              "      height: 32px;\n",
              "      padding: 0 0 0 0;\n",
              "      width: 32px;\n",
              "    }\n",
              "\n",
              "    .colab-df-convert:hover {\n",
              "      background-color: #E2EBFA;\n",
              "      box-shadow: 0px 1px 2px rgba(60, 64, 67, 0.3), 0px 1px 3px 1px rgba(60, 64, 67, 0.15);\n",
              "      fill: #174EA6;\n",
              "    }\n",
              "\n",
              "    [theme=dark] .colab-df-convert {\n",
              "      background-color: #3B4455;\n",
              "      fill: #D2E3FC;\n",
              "    }\n",
              "\n",
              "    [theme=dark] .colab-df-convert:hover {\n",
              "      background-color: #434B5C;\n",
              "      box-shadow: 0px 1px 3px 1px rgba(0, 0, 0, 0.15);\n",
              "      filter: drop-shadow(0px 1px 2px rgba(0, 0, 0, 0.3));\n",
              "      fill: #FFFFFF;\n",
              "    }\n",
              "  </style>\n",
              "\n",
              "      <script>\n",
              "        const buttonEl =\n",
              "          document.querySelector('#df-8b5a90ae-508f-4653-9fcc-357fd30b43e5 button.colab-df-convert');\n",
              "        buttonEl.style.display =\n",
              "          google.colab.kernel.accessAllowed ? 'block' : 'none';\n",
              "\n",
              "        async function convertToInteractive(key) {\n",
              "          const element = document.querySelector('#df-8b5a90ae-508f-4653-9fcc-357fd30b43e5');\n",
              "          const dataTable =\n",
              "            await google.colab.kernel.invokeFunction('convertToInteractive',\n",
              "                                                     [key], {});\n",
              "          if (!dataTable) return;\n",
              "\n",
              "          const docLinkHtml = 'Like what you see? Visit the ' +\n",
              "            '<a target=\"_blank\" href=https://colab.research.google.com/notebooks/data_table.ipynb>data table notebook</a>'\n",
              "            + ' to learn more about interactive tables.';\n",
              "          element.innerHTML = '';\n",
              "          dataTable['output_type'] = 'display_data';\n",
              "          await google.colab.output.renderOutput(dataTable, element);\n",
              "          const docLink = document.createElement('div');\n",
              "          docLink.innerHTML = docLinkHtml;\n",
              "          element.appendChild(docLink);\n",
              "        }\n",
              "      </script>\n",
              "    </div>\n",
              "  </div>\n",
              "  "
            ]
          },
          "metadata": {},
          "execution_count": 4
        }
      ]
    },
    {
      "cell_type": "code",
      "source": [
        "#Grafico de lineas, añadimos librerias\n",
        "import matplotlib.pyplot as plt\n",
        "import numpy as np"
      ],
      "metadata": {
        "id": "6OtRuSGy7jom"
      },
      "execution_count": null,
      "outputs": []
    },
    {
      "cell_type": "code",
      "source": [
        "#Graficos de lineas\n",
        "plt.plot(df['Dia'], df['Vwap'])\n",
        "plt.show()"
      ],
      "metadata": {
        "colab": {
          "base_uri": "https://localhost:8080/",
          "height": 266
        },
        "id": "ZSS6onAY8sSW",
        "outputId": "ba9a5793-3cda-4bca-9a9f-4254e79f768d"
      },
      "execution_count": 5,
      "outputs": [
        {
          "output_type": "display_data",
          "data": {
            "text/plain": [
              "<Figure size 432x288 with 1 Axes>"
            ],
            "image/png": "[encoded data removed]"
          },
          "metadata": {
            "needs_background": "light"
          }
        }
      ]
    },
    {
      "cell_type": "code",
      "source": [
        "#Graficos de puntos\n",
        "plt.scatter(df['Dia'],df['Vol'])\n",
        "plt.show()"
      ],
      "metadata": {
        "colab": {
          "base_uri": "https://localhost:8080/",
          "height": 277
        },
        "id": "2JD2TRwgJqnM",
        "outputId": "f0f91ed3-f209-4566-b1ec-e7102bda61db"
      },
      "execution_count": 6,
      "outputs": [
        {
          "output_type": "display_data",
          "data": {
            "text/plain": [
              "<Figure size 432x288 with 1 Axes>"
            ],
            "image/png": "[encoded data removed]"
          },
          "metadata": {
            "needs_background": "light"
          }
        }
      ]
    },
    {
      "cell_type": "code",
      "source": [
        "#Grafico de barras\n",
        "plt.bar(df['Dia'],df['Vol'])\n",
        "plt.show()"
      ],
      "metadata": {
        "colab": {
          "base_uri": "https://localhost:8080/",
          "height": 277
        },
        "id": "6LmaTx6gKj3M",
        "outputId": "80192c57-ce56-40f6-b5bb-9b38f096b5f0"
      },
      "execution_count": 7,
      "outputs": [
        {
          "output_type": "display_data",
          "data": {
            "text/plain": [
              "<Figure size 432x288 with 1 Axes>"
            ],
            "image/png": "[encoded data removed]"
          },
          "metadata": {
            "needs_background": "light"
          }
        }
      ]
    },
    {
      "cell_type": "code",
      "source": [
        "#Grafico de barras ordenado\n",
        "df = df.sort_values('Vol', ascending=False)\n",
        "plt.bar(df['Dia'],df['Vol'])\n",
        "plt.show()"
      ],
      "metadata": {
        "colab": {
          "base_uri": "https://localhost:8080/",
          "height": 277
        },
        "id": "BWzgI-XDKrWE",
        "outputId": "074c9e02-da30-453d-c3cc-b7badec3902f"
      },
      "execution_count": 8,
      "outputs": [
        {
          "output_type": "display_data",
          "data": {
            "text/plain": [
              "<Figure size 432x288 with 1 Axes>"
            ],
            "image/png": "[encoded data removed]"
          },
          "metadata": {
            "needs_background": "light"
          }
        }
      ]
    },
    {
      "cell_type": "code",
      "source": [
        "#Grafico de barras ordenado y con color: ----- colores, b= blue ...otros colores... g,r,c,m,y,k,w\n",
        "df = df.sort_values('Vol', ascending=False)\n",
        "plt.bar(df['Dia'],df['Vol'], color=['b','r'])\n",
        "plt.show()"
      ],
      "metadata": {
        "colab": {
          "base_uri": "https://localhost:8080/",
          "height": 277
        },
        "id": "44Ct52S3LBAc",
        "outputId": "26220f3b-1e47-44df-e890-e6b3952a56f6"
      },
      "execution_count": 9,
      "outputs": [
        {
          "output_type": "display_data",
          "data": {
            "text/plain": [
              "<Figure size 432x288 with 1 Axes>"
            ],
            "image/png": "[encoded data removed]"
          },
          "metadata": {
            "needs_background": "light"
          }
        }
      ]
    }
  ]
}