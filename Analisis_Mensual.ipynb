{
  "nbformat": 4,
  "nbformat_minor": 0,
  "metadata": {
    "colab": {
      "name": "Analisis-Mensual.ipynb",
      "provenance": [],
      "collapsed_sections": [],
      "authorship_tag": "ABX9TyPsDcukiPf0nAiUx0HIORnj",
      "include_colab_link": true
    },
    "kernelspec": {
      "name": "python3",
      "display_name": "Python 3"
    },
    "language_info": {
      "name": "python"
    }
  },
  "cells": [
    {
      "cell_type": "markdown",
      "metadata": {
        "id": "view-in-github",
        "colab_type": "text"
      },
      "source": [
        "<a href=\"https://colab.research.google.com/github/jmmartinnu2/Trading/blob/main/Analisis_Mensual.ipynb\" target=\"_parent\"><img src=\"https://colab.research.google.com/assets/colab-badge.svg\" alt=\"Open In Colab\"/></a>"
      ]
    },
    {
      "cell_type": "markdown",
      "source": [
        "#ANALISIS DE DATOS MENSUAL. POR SEMANAS - DATOS AGOSTO 2022"
      ],
      "metadata": {
        "id": "WEYXBmRFq7BG"
      }
    },
    {
      "cell_type": "code",
      "source": [
        "import pandas as pd\n",
        "import numpy as np\n",
        "\n",
        "\n",
        "\n",
        "df = pd.DataFrame()\n",
        "\n",
        "# creamos las columnas\n",
        "df['Semana'] = None\n",
        "df['VAH'] = None\n",
        "df['Vpoc'] = None\n",
        "df['VAL'] = None\n",
        "df['Vol'] = None\n",
        "df['Close'] = None\n",
        "df['Vwap'] = None\n",
        "df['Open'] = None\n",
        "df['High'] = None\n",
        "df['Low'] = None\n",
        "df['Vol_VAH'] = None\n",
        "df['Vol_Vpoc'] = None\n",
        "df['Vol_VAL'] = None\n",
        "df['Vpoc_Naked'] = None\n",
        "df['Rango_trading'] = None\n",
        "df['Delta'] = None\n",
        "df['Vix_cierre'] = None\n",
        "df['Rango_ticks'] = None\n",
        "\n",
        "\n",
        "\n",
        "\n",
        "\n",
        "\n",
        "# añadimos filas por su nombre de fila\n",
        "df.loc[0] = ['Semana 1 Agosto',4150.25,4121.5,4103.50,8053.3,4146.75,4129.63,4137.50,4173.25,4080.50,98100,181300,84600,False,46.75,363500,21.15,371]\n",
        "df.loc[1] = ['Semana 2 Agosto',4260.75,4208,4146,7037.7,4281,4191.84,4149.75,4282.75,4113,15200,121600,36700,False,114.75,649200,19.53,679]\n",
        "df.loc[2] = ['Semana 3 Agosto',4305.50,4275.75,4261.75,7118200,4231.50,4274.51,4277,4327.50,4220.75,39900,198200,40700,True,43.75,602600,20.60,427]\n",
        "\n",
        "#Imprimo mi tabla con resultados\n",
        "df"
      ],
      "metadata": {
        "colab": {
          "base_uri": "https://localhost:8080/",
          "height": 143
        },
        "id": "I046NLoUq_-l",
        "outputId": "babafff3-3c24-4c6b-d0b1-423d8ecb4cc5"
      },
      "execution_count": null,
      "outputs": [
        {
          "output_type": "execute_result",
          "data": {
            "text/plain": [
              "            Semana      VAH     Vpoc      VAL        Vol    Close     Vwap  \\\n",
              "0  Semana 1 Agosto  4150.25  4121.50  4103.50     8053.3  4146.75  4129.63   \n",
              "1  Semana 2 Agosto  4260.75  4208.00  4146.00     7037.7  4281.00  4191.84   \n",
              "2  Semana 3 Agosto  4305.50  4275.75  4261.75  7118200.0  4231.50  4274.51   \n",
              "\n",
              "      Open     High      Low Vol_VAH Vol_Vpoc Vol_VAL Vpoc_Naked  \\\n",
              "0  4137.50  4173.25  4080.50   98100   181300   84600      False   \n",
              "1  4149.75  4282.75  4113.00   15200   121600   36700      False   \n",
              "2  4277.00  4327.50  4220.75   39900   198200   40700       True   \n",
              "\n",
              "   Rango_trading   Delta  Vix_cierre Rango_ticks  \n",
              "0          46.75  363500       21.15         371  \n",
              "1         114.75  649200       19.53         679  \n",
              "2          43.75  602600       20.60         427  "
            ],
            "text/html": [
              "\n",
              "  <div id=\"df-6fd1e77e-71da-4918-8b98-60c5324a3b3a\">\n",
              "    <div class=\"colab-df-container\">\n",
              "      <div>\n",
              "<style scoped>\n",
              "    .dataframe tbody tr th:only-of-type {\n",
              "        vertical-align: middle;\n",
              "    }\n",
              "\n",
              "    .dataframe tbody tr th {\n",
              "        vertical-align: top;\n",
              "    }\n",
              "\n",
              "    .dataframe thead th {\n",
              "        text-align: right;\n",
              "    }\n",
              "</style>\n",
              "<table border=\"1\" class=\"dataframe\">\n",
              "  <thead>\n",
              "    <tr style=\"text-align: right;\">\n",
              "      <th></th>\n",
              "      <th>Semana</th>\n",
              "      <th>VAH</th>\n",
              "      <th>Vpoc</th>\n",
              "      <th>VAL</th>\n",
              "      <th>Vol</th>\n",
              "      <th>Close</th>\n",
              "      <th>Vwap</th>\n",
              "      <th>Open</th>\n",
              "      <th>High</th>\n",
              "      <th>Low</th>\n",
              "      <th>Vol_VAH</th>\n",
              "      <th>Vol_Vpoc</th>\n",
              "      <th>Vol_VAL</th>\n",
              "      <th>Vpoc_Naked</th>\n",
              "      <th>Rango_trading</th>\n",
              "      <th>Delta</th>\n",
              "      <th>Vix_cierre</th>\n",
              "      <th>Rango_ticks</th>\n",
              "    </tr>\n",
              "  </thead>\n",
              "  <tbody>\n",
              "    <tr>\n",
              "      <th>0</th>\n",
              "      <td>Semana 1 Agosto</td>\n",
              "      <td>4150.25</td>\n",
              "      <td>4121.50</td>\n",
              "      <td>4103.50</td>\n",
              "      <td>8053.3</td>\n",
              "      <td>4146.75</td>\n",
              "      <td>4129.63</td>\n",
              "      <td>4137.50</td>\n",
              "      <td>4173.25</td>\n",
              "      <td>4080.50</td>\n",
              "      <td>98100</td>\n",
              "      <td>181300</td>\n",
              "      <td>84600</td>\n",
              "      <td>False</td>\n",
              "      <td>46.75</td>\n",
              "      <td>363500</td>\n",
              "      <td>21.15</td>\n",
              "      <td>371</td>\n",
              "    </tr>\n",
              "    <tr>\n",
              "      <th>1</th>\n",
              "      <td>Semana 2 Agosto</td>\n",
              "      <td>4260.75</td>\n",
              "      <td>4208.00</td>\n",
              "      <td>4146.00</td>\n",
              "      <td>7037.7</td>\n",
              "      <td>4281.00</td>\n",
              "      <td>4191.84</td>\n",
              "      <td>4149.75</td>\n",
              "      <td>4282.75</td>\n",
              "      <td>4113.00</td>\n",
              "      <td>15200</td>\n",
              "      <td>121600</td>\n",
              "      <td>36700</td>\n",
              "      <td>False</td>\n",
              "      <td>114.75</td>\n",
              "      <td>649200</td>\n",
              "      <td>19.53</td>\n",
              "      <td>679</td>\n",
              "    </tr>\n",
              "    <tr>\n",
              "      <th>2</th>\n",
              "      <td>Semana 3 Agosto</td>\n",
              "      <td>4305.50</td>\n",
              "      <td>4275.75</td>\n",
              "      <td>4261.75</td>\n",
              "      <td>7118200.0</td>\n",
              "      <td>4231.50</td>\n",
              "      <td>4274.51</td>\n",
              "      <td>4277.00</td>\n",
              "      <td>4327.50</td>\n",
              "      <td>4220.75</td>\n",
              "      <td>39900</td>\n",
              "      <td>198200</td>\n",
              "      <td>40700</td>\n",
              "      <td>True</td>\n",
              "      <td>43.75</td>\n",
              "      <td>602600</td>\n",
              "      <td>20.60</td>\n",
              "      <td>427</td>\n",
              "    </tr>\n",
              "  </tbody>\n",
              "</table>\n",
              "</div>\n",
              "      <button class=\"colab-df-convert\" onclick=\"convertToInteractive('df-6fd1e77e-71da-4918-8b98-60c5324a3b3a')\"\n",
              "              title=\"Convert this dataframe to an interactive table.\"\n",
              "              style=\"display:none;\">\n",
              "        \n",
              "  <svg xmlns=\"http://www.w3.org/2000/svg\" height=\"24px\"viewBox=\"0 0 24 24\"\n",
              "       width=\"24px\">\n",
              "    <path d=\"M0 0h24v24H0V0z\" fill=\"none\"/>\n",
              "    <path d=\"M18.56 5.44l.94 2.06.94-2.06 2.06-.94-2.06-.94-.94-2.06-.94 2.06-2.06.94zm-11 1L8.5 8.5l.94-2.06 2.06-.94-2.06-.94L8.5 2.5l-.94 2.06-2.06.94zm10 10l.94 2.06.94-2.06 2.06-.94-2.06-.94-.94-2.06-.94 2.06-2.06.94z\"/><path d=\"M17.41 7.96l-1.37-1.37c-.4-.4-.92-.59-1.43-.59-.52 0-1.04.2-1.43.59L10.3 9.45l-7.72 7.72c-.78.78-.78 2.05 0 2.83L4 21.41c.39.39.9.59 1.41.59.51 0 1.02-.2 1.41-.59l7.78-7.78 2.81-2.81c.8-.78.8-2.07 0-2.86zM5.41 20L4 18.59l7.72-7.72 1.47 1.35L5.41 20z\"/>\n",
              "  </svg>\n",
              "      </button>\n",
              "      \n",
              "  <style>\n",
              "    .colab-df-container {\n",
              "      display:flex;\n",
              "      flex-wrap:wrap;\n",
              "      gap: 12px;\n",
              "    }\n",
              "\n",
              "    .colab-df-convert {\n",
              "      background-color: #E8F0FE;\n",
              "      border: none;\n",
              "      border-radius: 50%;\n",
              "      cursor: pointer;\n",
              "      display: none;\n",
              "      fill: #1967D2;\n",
              "      height: 32px;\n",
              "      padding: 0 0 0 0;\n",
              "      width: 32px;\n",
              "    }\n",
              "\n",
              "    .colab-df-convert:hover {\n",
              "      background-color: #E2EBFA;\n",
              "      box-shadow: 0px 1px 2px rgba(60, 64, 67, 0.3), 0px 1px 3px 1px rgba(60, 64, 67, 0.15);\n",
              "      fill: #174EA6;\n",
              "    }\n",
              "\n",
              "    [theme=dark] .colab-df-convert {\n",
              "      background-color: #3B4455;\n",
              "      fill: #D2E3FC;\n",
              "    }\n",
              "\n",
              "    [theme=dark] .colab-df-convert:hover {\n",
              "      background-color: #434B5C;\n",
              "      box-shadow: 0px 1px 3px 1px rgba(0, 0, 0, 0.15);\n",
              "      filter: drop-shadow(0px 1px 2px rgba(0, 0, 0, 0.3));\n",
              "      fill: #FFFFFF;\n",
              "    }\n",
              "  </style>\n",
              "\n",
              "      <script>\n",
              "        const buttonEl =\n",
              "          document.querySelector('#df-6fd1e77e-71da-4918-8b98-60c5324a3b3a button.colab-df-convert');\n",
              "        buttonEl.style.display =\n",
              "          google.colab.kernel.accessAllowed ? 'block' : 'none';\n",
              "\n",
              "        async function convertToInteractive(key) {\n",
              "          const element = document.querySelector('#df-6fd1e77e-71da-4918-8b98-60c5324a3b3a');\n",
              "          const dataTable =\n",
              "            await google.colab.kernel.invokeFunction('convertToInteractive',\n",
              "                                                     [key], {});\n",
              "          if (!dataTable) return;\n",
              "\n",
              "          const docLinkHtml = 'Like what you see? Visit the ' +\n",
              "            '<a target=\"_blank\" href=https://colab.research.google.com/notebooks/data_table.ipynb>data table notebook</a>'\n",
              "            + ' to learn more about interactive tables.';\n",
              "          element.innerHTML = '';\n",
              "          dataTable['output_type'] = 'display_data';\n",
              "          await google.colab.output.renderOutput(dataTable, element);\n",
              "          const docLink = document.createElement('div');\n",
              "          docLink.innerHTML = docLinkHtml;\n",
              "          element.appendChild(docLink);\n",
              "        }\n",
              "      </script>\n",
              "    </div>\n",
              "  </div>\n",
              "  "
            ]
          },
          "metadata": {},
          "execution_count": 4
        }
      ]
    },
    {
      "cell_type": "markdown",
      "source": [
        "#Datos estadísticos resultados"
      ],
      "metadata": {
        "id": "6-9Iz4LrvUa2"
      }
    },
    {
      "cell_type": "code",
      "source": [
        "df.describe()"
      ],
      "metadata": {
        "colab": {
          "base_uri": "https://localhost:8080/",
          "height": 300
        },
        "id": "YRxFAKljvZel",
        "outputId": "c84505b9-feda-4ade-9e58-385b75b00f19"
      },
      "execution_count": null,
      "outputs": [
        {
          "output_type": "execute_result",
          "data": {
            "text/plain": [
              "               VAH         Vpoc          VAL           Vol        Close  \\\n",
              "count     3.000000     3.000000     3.000000  3.000000e+00     3.000000   \n",
              "mean   4238.833333  4201.750000  4170.416667  2.377764e+06  4219.750000   \n",
              "std      79.911800    77.314698    81.901745  4.105338e+06    67.891918   \n",
              "min    4150.250000  4121.500000  4103.500000  7.037700e+03  4146.750000   \n",
              "25%    4205.500000  4164.750000  4124.750000  7.545500e+03  4189.125000   \n",
              "50%    4260.750000  4208.000000  4146.000000  8.053300e+03  4231.500000   \n",
              "75%    4283.125000  4241.875000  4203.875000  3.563127e+06  4256.250000   \n",
              "max    4305.500000  4275.750000  4261.750000  7.118200e+06  4281.000000   \n",
              "\n",
              "              Vwap         Open         High          Low  Rango_trading  \\\n",
              "count     3.000000     3.000000     3.000000     3.000000       3.000000   \n",
              "mean   4198.660000  4188.083333  4261.166667  4138.083333      68.416667   \n",
              "std      72.680382    77.247303    79.357708    73.412505      40.153871   \n",
              "min    4129.630000  4137.500000  4173.250000  4080.500000      43.750000   \n",
              "25%    4160.735000  4143.625000  4228.000000  4096.750000      45.250000   \n",
              "50%    4191.840000  4149.750000  4282.750000  4113.000000      46.750000   \n",
              "75%    4233.175000  4213.375000  4305.125000  4166.875000      80.750000   \n",
              "max    4274.510000  4277.000000  4327.500000  4220.750000     114.750000   \n",
              "\n",
              "       Vix_cierre  \n",
              "count    3.000000  \n",
              "mean    20.426667  \n",
              "std      0.823792  \n",
              "min     19.530000  \n",
              "25%     20.065000  \n",
              "50%     20.600000  \n",
              "75%     20.875000  \n",
              "max     21.150000  "
            ],
            "text/html": [
              "\n",
              "  <div id=\"df-220ff6d1-d4a9-4966-a8ac-9e1d74872d1a\">\n",
              "    <div class=\"colab-df-container\">\n",
              "      <div>\n",
              "<style scoped>\n",
              "    .dataframe tbody tr th:only-of-type {\n",
              "        vertical-align: middle;\n",
              "    }\n",
              "\n",
              "    .dataframe tbody tr th {\n",
              "        vertical-align: top;\n",
              "    }\n",
              "\n",
              "    .dataframe thead th {\n",
              "        text-align: right;\n",
              "    }\n",
              "</style>\n",
              "<table border=\"1\" class=\"dataframe\">\n",
              "  <thead>\n",
              "    <tr style=\"text-align: right;\">\n",
              "      <th></th>\n",
              "      <th>VAH</th>\n",
              "      <th>Vpoc</th>\n",
              "      <th>VAL</th>\n",
              "      <th>Vol</th>\n",
              "      <th>Close</th>\n",
              "      <th>Vwap</th>\n",
              "      <th>Open</th>\n",
              "      <th>High</th>\n",
              "      <th>Low</th>\n",
              "      <th>Rango_trading</th>\n",
              "      <th>Vix_cierre</th>\n",
              "    </tr>\n",
              "  </thead>\n",
              "  <tbody>\n",
              "    <tr>\n",
              "      <th>count</th>\n",
              "      <td>3.000000</td>\n",
              "      <td>3.000000</td>\n",
              "      <td>3.000000</td>\n",
              "      <td>3.000000e+00</td>\n",
              "      <td>3.000000</td>\n",
              "      <td>3.000000</td>\n",
              "      <td>3.000000</td>\n",
              "      <td>3.000000</td>\n",
              "      <td>3.000000</td>\n",
              "      <td>3.000000</td>\n",
              "      <td>3.000000</td>\n",
              "    </tr>\n",
              "    <tr>\n",
              "      <th>mean</th>\n",
              "      <td>4238.833333</td>\n",
              "      <td>4201.750000</td>\n",
              "      <td>4170.416667</td>\n",
              "      <td>2.377764e+06</td>\n",
              "      <td>4219.750000</td>\n",
              "      <td>4198.660000</td>\n",
              "      <td>4188.083333</td>\n",
              "      <td>4261.166667</td>\n",
              "      <td>4138.083333</td>\n",
              "      <td>68.416667</td>\n",
              "      <td>20.426667</td>\n",
              "    </tr>\n",
              "    <tr>\n",
              "      <th>std</th>\n",
              "      <td>79.911800</td>\n",
              "      <td>77.314698</td>\n",
              "      <td>81.901745</td>\n",
              "      <td>4.105338e+06</td>\n",
              "      <td>67.891918</td>\n",
              "      <td>72.680382</td>\n",
              "      <td>77.247303</td>\n",
              "      <td>79.357708</td>\n",
              "      <td>73.412505</td>\n",
              "      <td>40.153871</td>\n",
              "      <td>0.823792</td>\n",
              "    </tr>\n",
              "    <tr>\n",
              "      <th>min</th>\n",
              "      <td>4150.250000</td>\n",
              "      <td>4121.500000</td>\n",
              "      <td>4103.500000</td>\n",
              "      <td>7.037700e+03</td>\n",
              "      <td>4146.750000</td>\n",
              "      <td>4129.630000</td>\n",
              "      <td>4137.500000</td>\n",
              "      <td>4173.250000</td>\n",
              "      <td>4080.500000</td>\n",
              "      <td>43.750000</td>\n",
              "      <td>19.530000</td>\n",
              "    </tr>\n",
              "    <tr>\n",
              "      <th>25%</th>\n",
              "      <td>4205.500000</td>\n",
              "      <td>4164.750000</td>\n",
              "      <td>4124.750000</td>\n",
              "      <td>7.545500e+03</td>\n",
              "      <td>4189.125000</td>\n",
              "      <td>4160.735000</td>\n",
              "      <td>4143.625000</td>\n",
              "      <td>4228.000000</td>\n",
              "      <td>4096.750000</td>\n",
              "      <td>45.250000</td>\n",
              "      <td>20.065000</td>\n",
              "    </tr>\n",
              "    <tr>\n",
              "      <th>50%</th>\n",
              "      <td>4260.750000</td>\n",
              "      <td>4208.000000</td>\n",
              "      <td>4146.000000</td>\n",
              "      <td>8.053300e+03</td>\n",
              "      <td>4231.500000</td>\n",
              "      <td>4191.840000</td>\n",
              "      <td>4149.750000</td>\n",
              "      <td>4282.750000</td>\n",
              "      <td>4113.000000</td>\n",
              "      <td>46.750000</td>\n",
              "      <td>20.600000</td>\n",
              "    </tr>\n",
              "    <tr>\n",
              "      <th>75%</th>\n",
              "      <td>4283.125000</td>\n",
              "      <td>4241.875000</td>\n",
              "      <td>4203.875000</td>\n",
              "      <td>3.563127e+06</td>\n",
              "      <td>4256.250000</td>\n",
              "      <td>4233.175000</td>\n",
              "      <td>4213.375000</td>\n",
              "      <td>4305.125000</td>\n",
              "      <td>4166.875000</td>\n",
              "      <td>80.750000</td>\n",
              "      <td>20.875000</td>\n",
              "    </tr>\n",
              "    <tr>\n",
              "      <th>max</th>\n",
              "      <td>4305.500000</td>\n",
              "      <td>4275.750000</td>\n",
              "      <td>4261.750000</td>\n",
              "      <td>7.118200e+06</td>\n",
              "      <td>4281.000000</td>\n",
              "      <td>4274.510000</td>\n",
              "      <td>4277.000000</td>\n",
              "      <td>4327.500000</td>\n",
              "      <td>4220.750000</td>\n",
              "      <td>114.750000</td>\n",
              "      <td>21.150000</td>\n",
              "    </tr>\n",
              "  </tbody>\n",
              "</table>\n",
              "</div>\n",
              "      <button class=\"colab-df-convert\" onclick=\"convertToInteractive('df-220ff6d1-d4a9-4966-a8ac-9e1d74872d1a')\"\n",
              "              title=\"Convert this dataframe to an interactive table.\"\n",
              "              style=\"display:none;\">\n",
              "        \n",
              "  <svg xmlns=\"http://www.w3.org/2000/svg\" height=\"24px\"viewBox=\"0 0 24 24\"\n",
              "       width=\"24px\">\n",
              "    <path d=\"M0 0h24v24H0V0z\" fill=\"none\"/>\n",
              "    <path d=\"M18.56 5.44l.94 2.06.94-2.06 2.06-.94-2.06-.94-.94-2.06-.94 2.06-2.06.94zm-11 1L8.5 8.5l.94-2.06 2.06-.94-2.06-.94L8.5 2.5l-.94 2.06-2.06.94zm10 10l.94 2.06.94-2.06 2.06-.94-2.06-.94-.94-2.06-.94 2.06-2.06.94z\"/><path d=\"M17.41 7.96l-1.37-1.37c-.4-.4-.92-.59-1.43-.59-.52 0-1.04.2-1.43.59L10.3 9.45l-7.72 7.72c-.78.78-.78 2.05 0 2.83L4 21.41c.39.39.9.59 1.41.59.51 0 1.02-.2 1.41-.59l7.78-7.78 2.81-2.81c.8-.78.8-2.07 0-2.86zM5.41 20L4 18.59l7.72-7.72 1.47 1.35L5.41 20z\"/>\n",
              "  </svg>\n",
              "      </button>\n",
              "      \n",
              "  <style>\n",
              "    .colab-df-container {\n",
              "      display:flex;\n",
              "      flex-wrap:wrap;\n",
              "      gap: 12px;\n",
              "    }\n",
              "\n",
              "    .colab-df-convert {\n",
              "      background-color: #E8F0FE;\n",
              "      border: none;\n",
              "      border-radius: 50%;\n",
              "      cursor: pointer;\n",
              "      display: none;\n",
              "      fill: #1967D2;\n",
              "      height: 32px;\n",
              "      padding: 0 0 0 0;\n",
              "      width: 32px;\n",
              "    }\n",
              "\n",
              "    .colab-df-convert:hover {\n",
              "      background-color: #E2EBFA;\n",
              "      box-shadow: 0px 1px 2px rgba(60, 64, 67, 0.3), 0px 1px 3px 1px rgba(60, 64, 67, 0.15);\n",
              "      fill: #174EA6;\n",
              "    }\n",
              "\n",
              "    [theme=dark] .colab-df-convert {\n",
              "      background-color: #3B4455;\n",
              "      fill: #D2E3FC;\n",
              "    }\n",
              "\n",
              "    [theme=dark] .colab-df-convert:hover {\n",
              "      background-color: #434B5C;\n",
              "      box-shadow: 0px 1px 3px 1px rgba(0, 0, 0, 0.15);\n",
              "      filter: drop-shadow(0px 1px 2px rgba(0, 0, 0, 0.3));\n",
              "      fill: #FFFFFF;\n",
              "    }\n",
              "  </style>\n",
              "\n",
              "      <script>\n",
              "        const buttonEl =\n",
              "          document.querySelector('#df-220ff6d1-d4a9-4966-a8ac-9e1d74872d1a button.colab-df-convert');\n",
              "        buttonEl.style.display =\n",
              "          google.colab.kernel.accessAllowed ? 'block' : 'none';\n",
              "\n",
              "        async function convertToInteractive(key) {\n",
              "          const element = document.querySelector('#df-220ff6d1-d4a9-4966-a8ac-9e1d74872d1a');\n",
              "          const dataTable =\n",
              "            await google.colab.kernel.invokeFunction('convertToInteractive',\n",
              "                                                     [key], {});\n",
              "          if (!dataTable) return;\n",
              "\n",
              "          const docLinkHtml = 'Like what you see? Visit the ' +\n",
              "            '<a target=\"_blank\" href=https://colab.research.google.com/notebooks/data_table.ipynb>data table notebook</a>'\n",
              "            + ' to learn more about interactive tables.';\n",
              "          element.innerHTML = '';\n",
              "          dataTable['output_type'] = 'display_data';\n",
              "          await google.colab.output.renderOutput(dataTable, element);\n",
              "          const docLink = document.createElement('div');\n",
              "          docLink.innerHTML = docLinkHtml;\n",
              "          element.appendChild(docLink);\n",
              "        }\n",
              "      </script>\n",
              "    </div>\n",
              "  </div>\n",
              "  "
            ]
          },
          "metadata": {},
          "execution_count": 27
        }
      ]
    },
    {
      "cell_type": "code",
      "source": [
        "df.columns"
      ],
      "metadata": {
        "id": "zIcbLVQqD2p-",
        "outputId": "9d46a5fe-f79a-4b1c-edc5-fea71c322a9d",
        "colab": {
          "base_uri": "https://localhost:8080/"
        }
      },
      "execution_count": null,
      "outputs": [
        {
          "output_type": "execute_result",
          "data": {
            "text/plain": [
              "Index(['Semana', 'VAH', 'Vpoc', 'VAL', 'Vol', 'Close', 'Vwap', 'Open', 'High',\n",
              "       'Low', 'Vol_VAH', 'Vol_Vpoc', 'Vol_VAL', 'Vpoc_Naked', 'Rango_trading',\n",
              "       'Delta', 'Vix_cierre', 'Rango_ticks'],\n",
              "      dtype='object')"
            ]
          },
          "metadata": {},
          "execution_count": 6
        }
      ]
    },
    {
      "cell_type": "markdown",
      "source": [
        "#Algunos chart "
      ],
      "metadata": {
        "id": "He2_W2e_vb10"
      }
    },
    {
      "cell_type": "code",
      "source": [
        "#Grafico de lineas, añadimos librerias\n",
        "import matplotlib.pyplot as plt\n",
        "import numpy as np"
      ],
      "metadata": {
        "id": "4XdsbaOl66CJ"
      },
      "execution_count": null,
      "outputs": []
    },
    {
      "cell_type": "code",
      "source": [
        "#Graficos de lineas\n",
        "plt.plot(df['Semana'], df['Rango_ticks'])\n",
        "plt.show()"
      ],
      "metadata": {
        "colab": {
          "base_uri": "https://localhost:8080/",
          "height": 265
        },
        "id": "ipE-HIe6NrnN",
        "outputId": "8a9b0249-ca4a-45ef-ed5c-c71e8ba4e7b5"
      },
      "execution_count": null,
      "outputs": [
        {
          "output_type": "display_data",
          "data": {
            "text/plain": [
              "<Figure size 432x288 with 1 Axes>"
            ],
            "image/png": "[encoded data removed]"
          },
          "metadata": {
            "needs_background": "light"
          }
        }
      ]
    },
    {
      "cell_type": "code",
      "source": [
        "#Graficos de puntos\n",
        "plt.scatter(df['Semana'],df['Rango_ticks'])\n",
        "plt.show()"
      ],
      "metadata": {
        "colab": {
          "base_uri": "https://localhost:8080/",
          "height": 265
        },
        "id": "zwckmc_vN6yr",
        "outputId": "43c798f0-3b9e-49ca-ac5f-1be9683a4baa"
      },
      "execution_count": null,
      "outputs": [
        {
          "output_type": "display_data",
          "data": {
            "text/plain": [
              "<Figure size 432x288 with 1 Axes>"
            ],
            "image/png": "[encoded data removed]"
          },
          "metadata": {
            "needs_background": "light"
          }
        }
      ]
    },
    {
      "cell_type": "code",
      "source": [
        "#Grafico de barras\n",
        "plt.bar(df['Semana'],df['Open'])\n",
        "plt.show()"
      ],
      "metadata": {
        "colab": {
          "base_uri": "https://localhost:8080/",
          "height": 265
        },
        "id": "VOg0zN9mOP4T",
        "outputId": "13a53cb2-5991-407b-9da9-528b007072f3"
      },
      "execution_count": null,
      "outputs": [
        {
          "output_type": "display_data",
          "data": {
            "text/plain": [
              "<Figure size 432x288 with 1 Axes>"
            ],
            "image/png": "[encoded data removed]"
          },
          "metadata": {
            "needs_background": "light"
          }
        }
      ]
    },
    {
      "cell_type": "code",
      "source": [
        "#Grafico de barras ordenado\n",
        "df = df.sort_values('Open', ascending=False)\n",
        "plt.bar(df['Semana'],df['Open'])\n",
        "plt.show()"
      ],
      "metadata": {
        "colab": {
          "base_uri": "https://localhost:8080/",
          "height": 265
        },
        "id": "a6DEImigOcxM",
        "outputId": "60c522c7-5e2a-4e73-c3d2-245f12e35c98"
      },
      "execution_count": null,
      "outputs": [
        {
          "output_type": "display_data",
          "data": {
            "text/plain": [
              "<Figure size 432x288 with 1 Axes>"
            ],
            "image/png": "[encoded data removed]"
          },
          "metadata": {
            "needs_background": "light"
          }
        }
      ]
    },
    {
      "cell_type": "code",
      "source": [
        "#Grafico de barras ordenado y con color: ----- colores, b= blue ...otros colores... g,r,c,m,y,k,w\n",
        "df = df.sort_values('Close', ascending=False)\n",
        "plt.bar(df['Semana'],df['Vpoc'], color=['b','r','g'])\n",
        "plt.show()"
      ],
      "metadata": {
        "colab": {
          "base_uri": "https://localhost:8080/",
          "height": 265
        },
        "id": "fBtr3-qaOrcd",
        "outputId": "866e0a63-9fa7-4e4a-b143-fe39291501e8"
      },
      "execution_count": null,
      "outputs": [
        {
          "output_type": "display_data",
          "data": {
            "text/plain": [
              "<Figure size 432x288 with 1 Axes>"
            ],
            "image/png": "[encoded data removed]"
          },
          "metadata": {
            "needs_background": "light"
          }
        }
      ]
    }
  ]
}